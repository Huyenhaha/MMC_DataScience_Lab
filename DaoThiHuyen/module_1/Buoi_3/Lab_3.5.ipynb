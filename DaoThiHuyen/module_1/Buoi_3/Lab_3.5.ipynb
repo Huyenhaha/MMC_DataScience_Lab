{
 "cells": [
  {
   "cell_type": "markdown",
   "id": "51ced3fd-838f-43a2-856c-a66b408d1e14",
   "metadata": {},
   "source": [
    "## Bài 1: Trùng lặp (list+set or list+dict) [link](https://leetcode.com/problems/contains-duplicate/)\n",
    "Cho một mảng số nguyên nums, trả về True nếu bất kỳ giá trị nào xuất hiện ít nhất hai lần trong mảng và trả về false nếu mọi phần tử đều khác biệt.  \n",
    "```\n",
    "Example 1:\n",
    "Input: nums = [1,2,3,1]\n",
    "Output: true\n",
    "\n",
    "Example 2:\n",
    "Input: nums = [1,2,3,4]\n",
    "Output: false\n",
    "\n",
    "Example 3:\n",
    "Input: nums = [1,1,1,3,3,4,3,2,4,2]\n",
    "Output: true\n",
    "```"
   ]
  },
  {
   "cell_type": "code",
   "execution_count": 1,
   "id": "1283256e-bc3d-40a1-9d68-055119878b38",
   "metadata": {},
   "outputs": [],
   "source": [
    "def Check(lst):\n",
    "    tan_suat = {}\n",
    "    for x in lst:\n",
    "        if(x in tan_suat):\n",
    "            return True\n",
    "        else :\n",
    "            tan_suat[x] = 1\n",
    "    return False"
   ]
  },
  {
   "cell_type": "code",
   "execution_count": 2,
   "id": "e8b7057e-cedc-45a9-86a4-4e1fc77f2237",
   "metadata": {},
   "outputs": [
    {
     "name": "stdout",
     "output_type": "stream",
     "text": [
      "True\n",
      "False\n",
      "True\n"
     ]
    }
   ],
   "source": [
    "print(Check([1,2,3,1]))\n",
    "print(Check([1,2,3,4]))\n",
    "print(Check([1,1,1,3,3,4,3,2,4,2]))"
   ]
  },
  {
   "cell_type": "markdown",
   "id": "db1ab46b-7d44-4337-a21e-d09a8f4a466e",
   "metadata": {},
   "source": [
    "## Bài 2: Đảo chữ nhóm (list+dict) [Link](https://leetcode.com/problems/group-anagrams/description/)\n",
    "Cho một mảng các chuỗi strs, hãy nhóm các đảo chữ cái lại với nhau. Bạn có thể trả lời câu trả lời theo bất kỳ thứ tự nào.\n",
    "\n",
    "Đảo chữ là một từ hoặc cụm từ được hình thành bằng cách sắp xếp lại các chữ cái của một từ hoặc cụm từ khác, thường sử dụng tất cả các chữ cái gốc chính xác một lần.\n",
    "\n",
    "```\n",
    "Example 1:\n",
    "Input: strs = [\"eat\",\"tea\",\"tan\",\"ate\",\"nat\",\"bat\"]\n",
    "Output: [[\"bat\"],[\"nat\",\"tan\"],[\"ate\",\"eat\",\"tea\"]]\n",
    "\n",
    "Example 2:\n",
    "Input: strs = [\"\"]\n",
    "Output: [[\"\"]]\n",
    "\n",
    "Example 3:\n",
    "Input: strs = [\"a\"]\n",
    "Output: [[\"a\"]]\n",
    "```"
   ]
  },
  {
   "cell_type": "code",
   "execution_count": 15,
   "id": "db95d76f-ac9a-4e66-89cc-591af2f55060",
   "metadata": {},
   "outputs": [],
   "source": [
    "def group(strs):\n",
    "    # tạo từ điển chứa các chữ cái trong strs: a e t n b \n",
    "  chu_cai = set()\n",
    "  dct = {}\n",
    "  for x in strs:\n",
    "      for y in x:\n",
    "          chu_cai.add(y)\n",
    "\n",
    "    #eat = 11100, ate = 11100, tea = 11100 -> vào cùng key = 11100 trong dct\n",
    "  for s in strs:\n",
    "      lst = ''\n",
    "      for x in chu_cai:\n",
    "        lst += str(s.count(x))\n",
    "      if lst in dct:\n",
    "        dct[lst].append(s)\n",
    "      else:\n",
    "        dct[lst] = [s]\n",
    "\n",
    "  for x in dct:\n",
    "    print(dct[x])\n",
    "  \n"
   ]
  },
  {
   "cell_type": "code",
   "execution_count": 16,
   "id": "9a9e0eaf-41df-49c6-90fb-ec79b2ff8375",
   "metadata": {},
   "outputs": [
    {
     "name": "stdout",
     "output_type": "stream",
     "text": [
      "['eat', 'tea', 'ate']\n",
      "['tan', 'nat']\n",
      "['bat']\n"
     ]
    }
   ],
   "source": [
    "strs = [\"eat\",\"tea\",\"tan\",\"ate\",\"nat\",\"bat\"]\n",
    "group(strs)"
   ]
  },
  {
   "cell_type": "code",
   "execution_count": 17,
   "id": "c3d2e5c2-5bf0-4cc5-b63c-22f7b238ffc5",
   "metadata": {},
   "outputs": [
    {
     "name": "stdout",
     "output_type": "stream",
     "text": [
      "['']\n"
     ]
    }
   ],
   "source": [
    "strs = [\"\"]\n",
    "group(strs)"
   ]
  },
  {
   "cell_type": "code",
   "execution_count": 18,
   "id": "5e8fe1e8-eb62-41c7-86d1-a3c2281061bf",
   "metadata": {},
   "outputs": [
    {
     "name": "stdout",
     "output_type": "stream",
     "text": [
      "['a']\n"
     ]
    }
   ],
   "source": [
    "strs = [\"a\"]\n",
    "group(strs)"
   ]
  },
  {
   "cell_type": "markdown",
   "id": "7ce033b8-caff-48e9-9988-4eca824413c1",
   "metadata": {},
   "source": [
    "## Bài 3: Tổng 2 số (list+set or list+dict) [Link](https://leetcode.com/problems/two-sum/description/)\n",
    "Cho một mảng các số nguyên nums và một số nguyên đích target, trả về chỉ số của hai số sao cho tổng của chúng = target.\n",
    "\n",
    "Bạn có thể giả định rằng mỗi đầu vào sẽ có chính xác một giải pháp và bạn không được sử dụng cùng một phần tử hai lần.\n",
    "\n",
    "Bạn có thể trả lời câu trả lời theo bất kỳ thứ tự nào.\n",
    "\n",
    "```\n",
    "Example 1:\n",
    "Input: nums = [2,7,11,15], target = 9\n",
    "Output: [0,1]\n",
    "Explanation: Because nums[0] + nums[1] == 9, we return [0, 1].\n",
    "\n",
    "Example 2:\n",
    "Input: nums = [3,2,4], target = 6\n",
    "Output: [1,2]\n",
    "\n",
    "Example 3:\n",
    "Input: nums = [3,3], target = 6\n",
    "Output: [0,1]\n",
    "```"
   ]
  },
  {
   "cell_type": "code",
   "execution_count": 11,
   "id": "600b61de-3075-41ab-a9f7-d13aed71f21a",
   "metadata": {},
   "outputs": [],
   "source": [
    "def tong(nums,target):\n",
    "    dct = {}\n",
    "    for i in range(len(nums)):\n",
    "        if nums[i] in dct:\n",
    "            dct[nums[i]].append(i)\n",
    "        else:\n",
    "            dct[nums[i]] = [i]\n",
    "    ''' tạo dict :\n",
    "    2 : [0]\n",
    "    7 : [1]\n",
    "    11 : [2]\n",
    "    15 : [3]\n",
    "    '''\n",
    "    for x in dct:\n",
    "        m = target - x\n",
    "        if m in dct:\n",
    "            if (m != x):\n",
    "                for i in range(min(len(dct[x]), len(dct[m]))):\n",
    "                    print(f'{dct[x][i]} {dct[m][i]}')\n",
    "                dct[x] = []\n",
    "                dct[m] = []\n",
    "            elif (m == x) and len(dct[m]) >= 2:\n",
    "                l = 0\n",
    "                r = len(dct[m]) - 1\n",
    "                while(l < r):\n",
    "                    print(f'{l} {r}')\n",
    "                    l += 1\n",
    "                    r -= 1\n",
    "                \n",
    "    "
   ]
  },
  {
   "cell_type": "code",
   "execution_count": 12,
   "id": "9a0f3ce5-71c0-44a7-9d4b-cc657d09504f",
   "metadata": {},
   "outputs": [
    {
     "name": "stdout",
     "output_type": "stream",
     "text": [
      "0 1\n"
     ]
    }
   ],
   "source": [
    "nums = [2,7,11,15]\n",
    "target = 9\n",
    "tong(nums,target)\n"
   ]
  },
  {
   "cell_type": "code",
   "execution_count": 13,
   "id": "09dc73f9-4f0f-4294-977f-05c8000283d7",
   "metadata": {},
   "outputs": [
    {
     "name": "stdout",
     "output_type": "stream",
     "text": [
      "1 2\n"
     ]
    }
   ],
   "source": [
    "nums = [3,2,4]\n",
    "target = 6\n",
    "tong(nums,target)"
   ]
  },
  {
   "cell_type": "code",
   "execution_count": 14,
   "id": "ac1ab1c0-dfaf-46d2-ab95-2be0fc47799d",
   "metadata": {},
   "outputs": [
    {
     "name": "stdout",
     "output_type": "stream",
     "text": [
      "0 1\n"
     ]
    }
   ],
   "source": [
    "nums = [3,3]\n",
    "target = 6\n",
    "tong(nums,target)"
   ]
  },
  {
   "cell_type": "code",
   "execution_count": null,
   "id": "39d2129b-488a-4134-b315-92dd092df03b",
   "metadata": {},
   "outputs": [],
   "source": []
  }
 ],
 "metadata": {
  "kernelspec": {
   "display_name": "Python 3 (ipykernel)",
   "language": "python",
   "name": "python3"
  },
  "language_info": {
   "codemirror_mode": {
    "name": "ipython",
    "version": 3
   },
   "file_extension": ".py",
   "mimetype": "text/x-python",
   "name": "python",
   "nbconvert_exporter": "python",
   "pygments_lexer": "ipython3",
   "version": "3.12.2"
  }
 },
 "nbformat": 4,
 "nbformat_minor": 5
}
