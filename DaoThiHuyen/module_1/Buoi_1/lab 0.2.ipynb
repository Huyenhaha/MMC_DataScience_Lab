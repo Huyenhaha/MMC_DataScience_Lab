{
 "cells": [
  {
   "cell_type": "markdown",
   "id": "c7ab8f30-d9f7-4600-9367-cb2f1817a808",
   "metadata": {},
   "source": [
    "# [Markdown](https://www.markdownguide.org/) Practice"
   ]
  },
  {
   "cell_type": "markdown",
   "id": "cf590d6f-94de-4502-b0f5-faf08698b42f",
   "metadata": {},
   "source": [
    "**Xin chào mọi người**\n",
    "\n",
    "_Lớp học data._"
   ]
  },
  {
   "cell_type": "markdown",
   "id": "b1a00986-b5af-48b0-9921-e3023f51e904",
   "metadata": {},
   "source": [
    "1. Học data science\n",
    "2. học Machine learning\n",
    "3. học Deep learning"
   ]
  },
  {
   "cell_type": "markdown",
   "id": "a4b7ab7f-d276-4c08-83d7-c3db994ed411",
   "metadata": {},
   "source": [
    "* Tăng kiến thức\n",
    "* Tăng trải nghiệm"
   ]
  },
  {
   "cell_type": "markdown",
   "id": "cc47b87f-9b95-4d6c-850d-1c01a64dfa66",
   "metadata": {},
   "source": [
    "![hình ảnh minh họa cho việc sử dụng Markdown](https://images.viblo.asia/518eea86-f0bd-45c9-bf38-d5cb119e947d.png)"
   ]
  },
  {
   "cell_type": "markdown",
   "id": "0cb4faa9-8d0c-428e-9c3b-61094d9443cd",
   "metadata": {},
   "source": [
    "|STT| Tác giả | Tác phẩm |\n",
    "|---|---|---|\n",
    "|1| Kim Lân | Làng|\n",
    "|2| Ngô Tất Tố | Tắt Đèn |"
   ]
  },
  {
   "cell_type": "markdown",
   "id": "2e1bebdb-5e9f-457c-a6db-c079f8f7c6f4",
   "metadata": {},
   "source": [
    "> \" Cố lên nào \""
   ]
  },
  {
   "cell_type": "code",
   "execution_count": null,
   "id": "36dd28a3-4c9c-420b-9b18-96eead62dc20",
   "metadata": {},
   "outputs": [],
   "source": []
  },
  {
   "cell_type": "code",
   "execution_count": null,
   "id": "147af4e4-c2fc-40e7-a023-93ccdf694ba6",
   "metadata": {},
   "outputs": [],
   "source": []
  },
  {
   "cell_type": "code",
   "execution_count": null,
   "id": "59b81acd-e90c-41d2-8de0-f9228e02f8e6",
   "metadata": {},
   "outputs": [],
   "source": []
  },
  {
   "cell_type": "code",
   "execution_count": null,
   "id": "73c29830-2479-4694-86a1-6e28d7ebc313",
   "metadata": {},
   "outputs": [],
   "source": []
  }
 ],
 "metadata": {
  "kernelspec": {
   "display_name": "Python 3 (ipykernel)",
   "language": "python",
   "name": "python3"
  },
  "language_info": {
   "codemirror_mode": {
    "name": "ipython",
    "version": 3
   },
   "file_extension": ".py",
   "mimetype": "text/x-python",
   "name": "python",
   "nbconvert_exporter": "python",
   "pygments_lexer": "ipython3",
   "version": "3.12.2"
  }
 },
 "nbformat": 4,
 "nbformat_minor": 5
}
