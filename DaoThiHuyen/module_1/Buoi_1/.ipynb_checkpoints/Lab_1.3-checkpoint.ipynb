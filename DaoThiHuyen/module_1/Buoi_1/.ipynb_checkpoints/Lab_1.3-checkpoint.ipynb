{
 "cells": [
  {
   "cell_type": "markdown",
   "id": "1ef7aa32-7dfd-4276-85f1-5b2aec329a30",
   "metadata": {},
   "source": [
    "[respository with readme.md](https://github.com/Huyenhaha/test_git)"
   ]
  },
  {
   "cell_type": "markdown",
   "id": "a3ac50d1-6362-4c78-96af-63fd4a80f4a1",
   "metadata": {},
   "source": [
    "[respository without readme.md](https://github.com/Huyenhaha/test_readme)"
   ]
  }
 ],
 "metadata": {
  "kernelspec": {
   "display_name": "Python 3 (ipykernel)",
   "language": "python",
   "name": "python3"
  },
  "language_info": {
   "codemirror_mode": {
    "name": "ipython",
    "version": 3
   },
   "file_extension": ".py",
   "mimetype": "text/x-python",
   "name": "python",
   "nbconvert_exporter": "python",
   "pygments_lexer": "ipython3",
   "version": "3.12.2"
  }
 },
 "nbformat": 4,
 "nbformat_minor": 5
}
