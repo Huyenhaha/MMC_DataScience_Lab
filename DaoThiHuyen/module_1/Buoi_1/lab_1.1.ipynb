{
 "cells": [
  {
   "cell_type": "markdown",
   "id": "6270ad78-d42b-494f-b5a8-fcf517711b49",
   "metadata": {},
   "source": [
    "[Link git Lab 1.1](https://github.com/Huyenhaha/test_git)"
   ]
  }
 ],
 "metadata": {
  "kernelspec": {
   "display_name": "Python 3 (ipykernel)",
   "language": "python",
   "name": "python3"
  },
  "language_info": {
   "codemirror_mode": {
    "name": "ipython",
    "version": 3
   },
   "file_extension": ".py",
   "mimetype": "text/x-python",
   "name": "python",
   "nbconvert_exporter": "python",
   "pygments_lexer": "ipython3",
   "version": "3.12.2"
  }
 },
 "nbformat": 4,
 "nbformat_minor": 5
}
