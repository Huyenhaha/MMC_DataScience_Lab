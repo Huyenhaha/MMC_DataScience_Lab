{
 "cells": [
  {
   "cell_type": "markdown",
   "id": "b5183392-a9fd-4e75-90bf-cbff16bf1db3",
   "metadata": {},
   "source": [
    "[thay đổi trong mục image](https://github.com/Huyenhaha/TensorFlow/tree/master/images)"
   ]
  }
 ],
 "metadata": {
  "kernelspec": {
   "display_name": "Python 3 (ipykernel)",
   "language": "python",
   "name": "python3"
  },
  "language_info": {
   "codemirror_mode": {
    "name": "ipython",
    "version": 3
   },
   "file_extension": ".py",
   "mimetype": "text/x-python",
   "name": "python",
   "nbconvert_exporter": "python",
   "pygments_lexer": "ipython3",
   "version": "3.12.2"
  }
 },
 "nbformat": 4,
 "nbformat_minor": 5
}
