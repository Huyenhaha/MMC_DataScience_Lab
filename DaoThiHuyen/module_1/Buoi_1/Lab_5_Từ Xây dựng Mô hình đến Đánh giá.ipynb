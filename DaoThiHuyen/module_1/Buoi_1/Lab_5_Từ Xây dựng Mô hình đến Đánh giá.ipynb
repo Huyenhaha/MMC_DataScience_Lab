{
 "cells": [
  {
   "cell_type": "markdown",
   "metadata": {
    "button": false,
    "id": "DNcScLCV-62e",
    "new_sheet": false,
    "run_control": {
     "read_only": false
    }
   },
   "source": [
    "#Lab 5 Từ Xây dựng Mô hình đến Đánh giá\n",
    "\n",
    "Thời lượng: 120 phút\n",
    "\n",
    "## Mục tiêu\n",
    "\n",
    "Sau khi hoàn thành lab này, bạn sẽ có thể:\n",
    "\n",
    "-   Lập mô hình\n",
    "-   Đánh giá mô hình\n"
   ]
  },
  {
   "cell_type": "markdown",
   "metadata": {
    "button": false,
    "id": "5mjv-bsh-62g",
    "new_sheet": false,
    "run_control": {
     "read_only": false
    }
   },
   "source": [
    "## Mục lục\n",
    "\n",
    "<div class=\"alert alert-block alert-info\" style=\"margin-top: 20px\">\n",
    "\n",
    "1.  [Tóm tắt lại](#0)<br>\n",
    "2.  [Mô hình hóa dữ liệu](#2)<br>\n",
    "3.  [Đánh giá mô hình](#4)<br>\n",
    "    </div>\n",
    "    <hr>\n"
   ]
  },
  {
   "cell_type": "markdown",
   "metadata": {
    "button": false,
    "id": "YaYwewlv-62i",
    "new_sheet": false,
    "run_control": {
     "read_only": false
    }
   },
   "source": [
    "# Tóm tắt lại <a id=\"0\"></a>\n",
    "\n",
    "Trong lab **Từ Hiểu biết đến Chuẩn bị**, chúng ta đã khám phá dữ liệu và chuẩn bị cho việc lập mô hình.\n"
   ]
  },
  {
   "cell_type": "markdown",
   "metadata": {
    "button": false,
    "id": "qgIYF-aY-62j",
    "new_sheet": false,
    "run_control": {
     "read_only": false
    }
   },
   "source": [
    "Dữ liệu được tổng hợp bởi nhà nghiên cứu Yong-Yeol Ahn, người đã thu thập hàng chục nghìn công thức nấu ăn (món ăn và nguyên liệu) từ 3 trang web khác nhau, đó là:"
   ]
  },
  {
   "cell_type": "markdown",
   "metadata": {
    "button": false,
    "id": "33YHd4hR-62k",
    "new_sheet": false,
    "run_control": {
     "read_only": false
    }
   },
   "source": [
    "<img src=\"https://s3-api.us-geo.objectstorage.softlayer.net/cf-courses-data/CognitiveClass/DS0103EN/labs/images/lab4_fig1_allrecipes.png\" width=500>\n",
    "\n",
    "[www.allrecipes.com](http://www.allrecipes.com?cm_mmc=Email_Newsletter-_-Developer_Ed%2BTech-_-WW_WW-_-SkillsNetwork-Courses-IBMDeveloperSkillsNetwork-DS0103EN-SkillsNetwork-20083987&cm_mmca1=000026UJ&cm_mmca2=10006555&cm_mmca3=M12345678&cvosrc=email.Newsletter.M12345678&cvo_campaign=000026UJ)\n",
    "\n",
    "<img src=\"https://s3-api.us-geo.objectstorage.softlayer.net/cf-courses-data/CognitiveClass/DS0103EN/labs/images/lab4_fig2_epicurious.png\" width=500>\n",
    "\n",
    "[www.epicurious.com](http://www.epicurious.com?cm_mmc=Email_Newsletter-_-Developer_Ed%2BTech-_-WW_WW-_-SkillsNetwork-Courses-IBMDeveloperSkillsNetwork-DS0103EN-SkillsNetwork-20083987&cm_mmca1=000026UJ&cm_mmca2=10006555&cm_mmca3=M12345678&cvosrc=email.Newsletter.M12345678&cvo_campaign=000026UJ)\n",
    "\n",
    "<img src=\"https://s3-api.us-geo.objectstorage.softlayer.net/cf-courses-data/CognitiveClass/DS0103EN/labs/images/lab4_fig3_menupan.png\" width=500>\n",
    "\n",
    "[www.menupan.com](http://www.menupan.com?cm_mmc=Email_Newsletter-_-Developer_Ed%2BTech-_-WW_WW-_-SkillsNetwork-Courses-IBMDeveloperSkillsNetwork-DS0103EN-SkillsNetwork-20083987&cm_mmca1=000026UJ&cm_mmca2=10006555&cm_mmca3=M12345678&cvosrc=email.Newsletter.M12345678&cvo_campaign=000026UJ)\n"
   ]
  },
  {
   "cell_type": "markdown",
   "metadata": {
    "button": false,
    "id": "p94yuoOt-62k",
    "new_sheet": false,
    "run_control": {
     "read_only": false
    }
   },
   "source": [
    "Để biết thêm thông tin về Yong-Yeol Ahn và nghiên cứu của anh ấy, bạn có thể đọc bài báo của anh ấy trên[Flavor Network and the Principles of Food Pairing](http://yongyeol.com/papers/ahn-flavornet-2011.pdf?cm_mmc=Email_Newsletter-_-Developer_Ed%2BTech-_-WW_WW-_-SkillsNetwork-Courses-IBMDeveloperSkillsNetwork-DS0103EN-SkillsNetwork-20083987&cm_mmca1=000026UJ&cm_mmca2=10006555&cm_mmca3=M12345678&cvosrc=email.Newsletter.M12345678&cvo_campaign=000026UJ&cm_mmc=Email_Newsletter-_-Developer_Ed%2BTech-_-WW_WW-_-SkillsNetwork-Courses-IBMDeveloperSkillsNetwork-DS0103EN-SkillsNetwork-20083987&cm_mmca1=000026UJ&cm_mmca2=10006555&cm_mmca3=M12345678&cvosrc=email.Newsletter.M12345678&cvo_campaign=000026UJ).\n"
   ]
  },
  {
   "cell_type": "markdown",
   "metadata": {
    "button": false,
    "id": "4GXvja5I-62l",
    "new_sheet": false,
    "run_control": {
     "read_only": false
    }
   },
   "source": [
    "<strong> Lưu ý quan trọng:</strong> Xin lưu ý rằng bạn không cần biết cách lập trình trong Python. Đoạn code sau đây nhằm minh họa các giai đoạn hiểu dữ liệu và chuẩn bị dữ liệu, vì vậy hoàn toàn không sao nếu bạn không hiểu từng dòng code riêng lẻ. Chúng ta có một khóa học đầy đủ về lập trình bằng Python, <a href=\"http://cocl.us/PY0101EN_DS0103EN_LAB4_PYTHON_edX\"><strong> Python dành cho Khoa học dữ liệu </strong> </a>, cũng được cung cấp trên Coursera. Vì vậy, hãy hoàn thành khóa học Python nếu bạn muốn học cách lập trình bằng Python."
   ]
  },
  {
   "cell_type": "markdown",
   "metadata": {
    "button": false,
    "id": "34LuD57B-62m",
    "new_sheet": false,
    "run_control": {
     "read_only": false
    }
   },
   "source": [
    "### Sử dụng notebook này:\n",
    "\n",
    "Để chạy bất kỳ cell code nào sau đây, bạn có thể nhập **Shift + Enter** để tính toán code trong một cell.\n"
   ]
  },
  {
   "cell_type": "markdown",
   "metadata": {
    "button": false,
    "id": "FuRbEBNB-62n",
    "new_sheet": false,
    "run_control": {
     "read_only": false
    }
   },
   "source": [
    "Tải xuống thư viện và các tệp đi kèm mà chúng ta sẽ cần để chạy lab này."
   ]
  },
  {
   "cell_type": "code",
   "execution_count": 1,
   "metadata": {
    "button": false,
    "id": "39YOrw7--62n",
    "new_sheet": false,
    "run_control": {
     "read_only": false
    }
   },
   "outputs": [],
   "source": [
    "import pandas as pd # import library to read data into dataframe\n",
    "pd.set_option(\"display.max_columns\", None)\n",
    "import numpy as np # import numpy library\n",
    "import re # import library for regular expression\n",
    "import random # library for random number generation\n"
   ]
  },
  {
   "cell_type": "markdown",
   "metadata": {
    "button": false,
    "id": "dYTprAEq-62s",
    "new_sheet": false,
    "run_control": {
     "read_only": false
    }
   },
   "source": [
    "Chúng tôi đã đặt dữ liệu trên máy chủ IBM để thuận tiện cho bạn, vì vậy hãy tải dữ liệu xuống từ máy chủ và đọc nó vào khung dữ liệu có tên **recipes**.\n"
   ]
  },
  {
   "cell_type": "code",
   "execution_count": 2,
   "metadata": {
    "button": false,
    "colab": {
     "base_uri": "https://localhost:8080/"
    },
    "collapsed": false,
    "executionInfo": {
     "elapsed": 5607,
     "status": "ok",
     "timestamp": 1663756403939,
     "user": {
      "displayName": "Sơn Nguyễn Hải",
      "userId": "15831383678878548038"
     },
     "user_tz": -420
    },
    "id": "FF-Wj1IY-62t",
    "jupyter": {
     "outputs_hidden": false
    },
    "new_sheet": false,
    "outputId": "a91fc3ed-f0b4-4bec-e494-403f4f57fdf3",
    "run_control": {
     "read_only": false
    }
   },
   "outputs": [
    {
     "name": "stdout",
     "output_type": "stream",
     "text": [
      "Data read into dataframe!\n"
     ]
    }
   ],
   "source": [
    "# Điền code vào đây\n",
    "recipes = pd.read_csv(\"https://s3-api.us-geo.objectstorage.softlayer.net/cf-courses-data/CognitiveClass/DS0103EN/labs/data/recipes.csv\")\n",
    "\n",
    "print(\"Data read into dataframe!\") # takes about 30 seconds"
   ]
  },
  {
   "cell_type": "markdown",
   "metadata": {
    "id": "tqtZFuib5I3E"
   },
   "source": [
    "Nhấp đúp vào __đây__ để xem lời giải.\n",
    "<!-- \n",
    "read_csv\n",
    "-->"
   ]
  },
  {
   "cell_type": "markdown",
   "metadata": {
    "button": false,
    "id": "629GjhMs-62y",
    "new_sheet": false,
    "run_control": {
     "read_only": false
    }
   },
   "source": [
    "Chúng ta sẽ lặp lại các bước tiền xử lý đã triển khai trong lab **Từ Tìm hiểu đến Chuẩn bị** để chuẩn bị dữ liệu cho việc lập mô hình. Để biết thêm chi tiết về việc chuẩn bị dữ liệu, vui lòng tham khảo lab **Từ Tìm hiểu đến Chuẩn bị**.\n"
   ]
  },
  {
   "cell_type": "code",
   "execution_count": 5,
   "metadata": {
    "button": false,
    "id": "Ly6CI6VY-62y",
    "new_sheet": false,
    "run_control": {
     "read_only": false
    }
   },
   "outputs": [],
   "source": [
    "# fix name of the column displaying the cuisine\n",
    "column_names = recipes.columns.values\n",
    "column_names[0] = \"cuisine\"\n",
    "recipes.columns = column_names\n",
    "\n",
    "# convert cuisine names to lower case\n",
    "recipes[\"cuisine\"] = recipes[\"cuisine\"].str.lower()\n",
    "\n",
    "# make the cuisine names consistent\n",
    "recipes.loc[recipes[\"cuisine\"] == \"austria\", \"cuisine\"] = \"austrian\"\n",
    "recipes.loc[recipes[\"cuisine\"] == \"belgium\", \"cuisine\"] = \"belgian\"\n",
    "recipes.loc[recipes[\"cuisine\"] == \"china\", \"cuisine\"] = \"chinese\"\n",
    "recipes.loc[recipes[\"cuisine\"] == \"canada\", \"cuisine\"] = \"canadian\"\n",
    "recipes.loc[recipes[\"cuisine\"] == \"netherlands\", \"cuisine\"] = \"dutch\"\n",
    "recipes.loc[recipes[\"cuisine\"] == \"france\", \"cuisine\"] = \"french\"\n",
    "recipes.loc[recipes[\"cuisine\"] == \"germany\", \"cuisine\"] = \"german\"\n",
    "recipes.loc[recipes[\"cuisine\"] == \"india\", \"cuisine\"] = \"indian\"\n",
    "recipes.loc[recipes[\"cuisine\"] == \"indonesia\", \"cuisine\"] = \"indonesian\"\n",
    "recipes.loc[recipes[\"cuisine\"] == \"iran\", \"cuisine\"] = \"iranian\"\n",
    "recipes.loc[recipes[\"cuisine\"] == \"italy\", \"cuisine\"] = \"italian\"\n",
    "recipes.loc[recipes[\"cuisine\"] == \"japan\", \"cuisine\"] = \"japanese\"\n",
    "recipes.loc[recipes[\"cuisine\"] == \"israel\", \"cuisine\"] = \"jewish\"\n",
    "recipes.loc[recipes[\"cuisine\"] == \"korea\", \"cuisine\"] = \"korean\"\n",
    "recipes.loc[recipes[\"cuisine\"] == \"lebanon\", \"cuisine\"] = \"lebanese\"\n",
    "recipes.loc[recipes[\"cuisine\"] == \"malaysia\", \"cuisine\"] = \"malaysian\"\n",
    "recipes.loc[recipes[\"cuisine\"] == \"mexico\", \"cuisine\"] = \"mexican\"\n",
    "recipes.loc[recipes[\"cuisine\"] == \"pakistan\", \"cuisine\"] = \"pakistani\"\n",
    "recipes.loc[recipes[\"cuisine\"] == \"philippines\", \"cuisine\"] = \"philippine\"\n",
    "recipes.loc[recipes[\"cuisine\"] == \"scandinavia\", \"cuisine\"] = \"scandinavian\"\n",
    "recipes.loc[recipes[\"cuisine\"] == \"spain\", \"cuisine\"] = \"spanish_portuguese\"\n",
    "recipes.loc[recipes[\"cuisine\"] == \"portugal\", \"cuisine\"] = \"spanish_portuguese\"\n",
    "recipes.loc[recipes[\"cuisine\"] == \"switzerland\", \"cuisine\"] = \"swiss\"\n",
    "recipes.loc[recipes[\"cuisine\"] == \"thailand\", \"cuisine\"] = \"thai\"\n",
    "recipes.loc[recipes[\"cuisine\"] == \"turkey\", \"cuisine\"] = \"turkish\"\n",
    "recipes.loc[recipes[\"cuisine\"] == \"vietnam\", \"cuisine\"] = \"vietnamese\"\n",
    "recipes.loc[recipes[\"cuisine\"] == \"uk-and-ireland\", \"cuisine\"] = \"uk-and-irish\"\n",
    "recipes.loc[recipes[\"cuisine\"] == \"irish\", \"cuisine\"] = \"uk-and-irish\"\n",
    "\n",
    "\n",
    "# remove data for cuisines with < 50 recipes:\n",
    "recipes_counts = recipes[\"cuisine\"].value_counts()\n",
    "cuisines_indices = recipes_counts > 50\n",
    "\n",
    "cuisines_to_keep = list(np.array(recipes_counts.index.values)[np.array(cuisines_indices)])\n",
    "recipes = recipes.loc[recipes[\"cuisine\"].isin(cuisines_to_keep)]\n",
    "\n",
    "# convert all Yes's to 1's and the No's to 0's\n",
    "recipes = recipes.replace(to_replace=\"Yes\", value=1).infer_objects()\n",
    "recipes = recipes.replace(to_replace=\"No\", value=0).infer_objects()"
   ]
  },
  {
   "cell_type": "markdown",
   "metadata": {
    "button": false,
    "id": "ZJJ5mg-V-623",
    "new_sheet": false,
    "run_control": {
     "read_only": false
    }
   },
   "source": [
    "<hr>\n"
   ]
  },
  {
   "cell_type": "markdown",
   "metadata": {
    "button": false,
    "id": "UMnRvZ0B-623",
    "new_sheet": false,
    "run_control": {
     "read_only": false
    }
   },
   "source": [
    "# Mô hình hóa Dữ liệu <a id=\"2\"></a>\n"
   ]
  },
  {
   "cell_type": "markdown",
   "metadata": {
    "button": false,
    "id": "45IqsaIt-624",
    "new_sheet": false,
    "run_control": {
     "read_only": false
    }
   },
   "source": [
    "<img src=\"https://s3-api.us-geo.objectstorage.softlayer.net/cf-courses-data/CognitiveClass/DS0103EN/labs/images/lab4_fig4_flowchart_data_modeling.png\" width=500>\n"
   ]
  },
  {
   "cell_type": "markdown",
   "metadata": {
    "button": false,
    "id": "YtzKKbJC-625",
    "new_sheet": false,
    "run_control": {
     "read_only": false
    }
   },
   "source": [
    "Tải xuống và cài đặt thêm các thư viện và phần phụ thuộc để xây dựng cây quyết định.\n"
   ]
  },
  {
   "cell_type": "code",
   "execution_count": 7,
   "metadata": {},
   "outputs": [
    {
     "name": "stdout",
     "output_type": "stream",
     "text": [
      "Collecting scikit-learn\n",
      "  Downloading scikit_learn-1.4.1.post1-cp312-cp312-win_amd64.whl.metadata (11 kB)\n",
      "Requirement already satisfied: numpy<2.0,>=1.19.5 in c:\\python312\\lib\\site-packages (from scikit-learn) (1.26.4)\n",
      "Collecting scipy>=1.6.0 (from scikit-learn)\n",
      "  Downloading scipy-1.13.0-cp312-cp312-win_amd64.whl.metadata (60 kB)\n",
      "     ---------------------------------------- 0.0/60.6 kB ? eta -:--:--\n",
      "     ------ --------------------------------- 10.2/60.6 kB ? eta -:--:--\n",
      "     -------------------------------- ----- 51.2/60.6 kB 525.1 kB/s eta 0:00:01\n",
      "     -------------------------------------- 60.6/60.6 kB 541.3 kB/s eta 0:00:00\n",
      "Collecting joblib>=1.2.0 (from scikit-learn)\n",
      "  Downloading joblib-1.3.2-py3-none-any.whl.metadata (5.4 kB)\n",
      "Collecting threadpoolctl>=2.0.0 (from scikit-learn)\n",
      "  Downloading threadpoolctl-3.4.0-py3-none-any.whl.metadata (13 kB)\n",
      "Downloading scikit_learn-1.4.1.post1-cp312-cp312-win_amd64.whl (10.6 MB)\n",
      "   ---------------------------------------- 0.0/10.6 MB ? eta -:--:--\n",
      "   ---------------------------------------- 0.1/10.6 MB 2.6 MB/s eta 0:00:04\n",
      "    --------------------------------------- 0.2/10.6 MB 2.3 MB/s eta 0:00:05\n",
      "   - -------------------------------------- 0.5/10.6 MB 3.5 MB/s eta 0:00:03\n",
      "   -- ------------------------------------- 0.6/10.6 MB 3.4 MB/s eta 0:00:03\n",
      "   --- ------------------------------------ 0.8/10.6 MB 4.3 MB/s eta 0:00:03\n",
      "   --- ------------------------------------ 0.9/10.6 MB 3.4 MB/s eta 0:00:03\n",
      "   ----- ---------------------------------- 1.3/10.6 MB 4.7 MB/s eta 0:00:02\n",
      "   ------ --------------------------------- 1.7/10.6 MB 4.7 MB/s eta 0:00:02\n",
      "   ------- -------------------------------- 2.1/10.6 MB 5.3 MB/s eta 0:00:02\n",
      "   ------- -------------------------------- 2.1/10.6 MB 5.3 MB/s eta 0:00:02\n",
      "   ----------- ---------------------------- 3.1/10.6 MB 6.2 MB/s eta 0:00:02\n",
      "   ------------- -------------------------- 3.5/10.6 MB 6.3 MB/s eta 0:00:02\n",
      "   -------------- ------------------------- 3.9/10.6 MB 6.3 MB/s eta 0:00:02\n",
      "   --------------- ------------------------ 4.2/10.6 MB 6.6 MB/s eta 0:00:01\n",
      "   ----------------- ---------------------- 4.7/10.6 MB 6.6 MB/s eta 0:00:01\n",
      "   ------------------ --------------------- 5.0/10.6 MB 6.8 MB/s eta 0:00:01\n",
      "   -------------------- ------------------- 5.4/10.6 MB 6.8 MB/s eta 0:00:01\n",
      "   --------------------- ------------------ 5.8/10.6 MB 6.9 MB/s eta 0:00:01\n",
      "   ----------------------- ---------------- 6.3/10.6 MB 7.0 MB/s eta 0:00:01\n",
      "   ------------------------- -------------- 6.6/10.6 MB 7.1 MB/s eta 0:00:01\n",
      "   -------------------------- ------------- 7.1/10.6 MB 7.2 MB/s eta 0:00:01\n",
      "   --------------------------- ------------ 7.4/10.6 MB 7.1 MB/s eta 0:00:01\n",
      "   ----------------------------- ---------- 7.7/10.6 MB 7.1 MB/s eta 0:00:01\n",
      "   ------------------------------ --------- 8.1/10.6 MB 7.2 MB/s eta 0:00:01\n",
      "   ------------------------------- -------- 8.3/10.6 MB 7.1 MB/s eta 0:00:01\n",
      "   -------------------------------- ------- 8.7/10.6 MB 7.2 MB/s eta 0:00:01\n",
      "   ---------------------------------- ----- 9.2/10.6 MB 7.3 MB/s eta 0:00:01\n",
      "   ------------------------------------ --- 9.6/10.6 MB 7.3 MB/s eta 0:00:01\n",
      "   ------------------------------------- -- 9.9/10.6 MB 7.4 MB/s eta 0:00:01\n",
      "   -------------------------------------- - 10.3/10.6 MB 7.5 MB/s eta 0:00:01\n",
      "   ---------------------------------------  10.6/10.6 MB 7.8 MB/s eta 0:00:01\n",
      "   ---------------------------------------- 10.6/10.6 MB 7.6 MB/s eta 0:00:00\n",
      "Downloading joblib-1.3.2-py3-none-any.whl (302 kB)\n",
      "   ---------------------------------------- 0.0/302.2 kB ? eta -:--:--\n",
      "   ---------------------------------------- 302.2/302.2 kB 9.1 MB/s eta 0:00:00\n",
      "Downloading scipy-1.13.0-cp312-cp312-win_amd64.whl (45.9 MB)\n",
      "   ---------------------------------------- 0.0/45.9 MB ? eta -:--:--\n",
      "   ---------------------------------------- 0.5/45.9 MB 15.5 MB/s eta 0:00:03\n",
      "    --------------------------------------- 0.9/45.9 MB 11.2 MB/s eta 0:00:05\n",
      "   - -------------------------------------- 1.2/45.9 MB 9.3 MB/s eta 0:00:05\n",
      "   - -------------------------------------- 1.6/45.9 MB 10.4 MB/s eta 0:00:05\n",
      "   - -------------------------------------- 2.1/45.9 MB 9.5 MB/s eta 0:00:05\n",
      "   -- ------------------------------------- 2.5/45.9 MB 9.4 MB/s eta 0:00:05\n",
      "   -- ------------------------------------- 2.9/45.9 MB 9.4 MB/s eta 0:00:05\n",
      "   -- ------------------------------------- 3.4/45.9 MB 8.9 MB/s eta 0:00:05\n",
      "   --- ------------------------------------ 3.8/45.9 MB 9.4 MB/s eta 0:00:05\n",
      "   --- ------------------------------------ 4.3/45.9 MB 9.1 MB/s eta 0:00:05\n",
      "   ---- ----------------------------------- 4.8/45.9 MB 8.9 MB/s eta 0:00:05\n",
      "   ---- ----------------------------------- 5.2/45.9 MB 9.2 MB/s eta 0:00:05\n",
      "   ---- ----------------------------------- 5.7/45.9 MB 9.0 MB/s eta 0:00:05\n",
      "   ----- ---------------------------------- 6.1/45.9 MB 9.0 MB/s eta 0:00:05\n",
      "   ----- ---------------------------------- 6.5/45.9 MB 9.2 MB/s eta 0:00:05\n",
      "   ----- ---------------------------------- 6.8/45.9 MB 8.9 MB/s eta 0:00:05\n",
      "   ------ --------------------------------- 7.2/45.9 MB 8.9 MB/s eta 0:00:05\n",
      "   ------ --------------------------------- 7.7/45.9 MB 9.0 MB/s eta 0:00:05\n",
      "   ------ --------------------------------- 8.0/45.9 MB 9.0 MB/s eta 0:00:05\n",
      "   ------- -------------------------------- 8.5/45.9 MB 8.9 MB/s eta 0:00:05\n",
      "   ------- -------------------------------- 8.9/45.9 MB 9.1 MB/s eta 0:00:05\n",
      "   -------- ------------------------------- 9.4/45.9 MB 9.0 MB/s eta 0:00:05\n",
      "   -------- ------------------------------- 9.8/45.9 MB 9.0 MB/s eta 0:00:05\n",
      "   -------- ------------------------------- 10.2/45.9 MB 9.0 MB/s eta 0:00:04\n",
      "   --------- ------------------------------ 10.7/45.9 MB 8.8 MB/s eta 0:00:04\n",
      "   --------- ------------------------------ 11.2/45.9 MB 9.0 MB/s eta 0:00:04\n",
      "   ---------- ----------------------------- 11.6/45.9 MB 9.0 MB/s eta 0:00:04\n",
      "   ---------- ----------------------------- 12.0/45.9 MB 9.0 MB/s eta 0:00:04\n",
      "   ---------- ----------------------------- 12.5/45.9 MB 9.0 MB/s eta 0:00:04\n",
      "   ----------- ---------------------------- 12.9/45.9 MB 8.8 MB/s eta 0:00:04\n",
      "   ----------- ---------------------------- 13.3/45.9 MB 9.0 MB/s eta 0:00:04\n",
      "   ------------ --------------------------- 13.8/45.9 MB 9.1 MB/s eta 0:00:04\n",
      "   ------------ --------------------------- 14.2/45.9 MB 9.1 MB/s eta 0:00:04\n",
      "   ------------ --------------------------- 14.6/45.9 MB 9.1 MB/s eta 0:00:04\n",
      "   ------------- -------------------------- 15.0/45.9 MB 9.1 MB/s eta 0:00:04\n",
      "   ------------- -------------------------- 15.4/45.9 MB 9.2 MB/s eta 0:00:04\n",
      "   ------------- -------------------------- 15.9/45.9 MB 9.1 MB/s eta 0:00:04\n",
      "   -------------- ------------------------- 16.4/45.9 MB 9.1 MB/s eta 0:00:04\n",
      "   -------------- ------------------------- 16.8/45.9 MB 9.1 MB/s eta 0:00:04\n",
      "   -------------- ------------------------- 17.2/45.9 MB 9.2 MB/s eta 0:00:04\n",
      "   --------------- ------------------------ 17.5/45.9 MB 9.2 MB/s eta 0:00:04\n",
      "   --------------- ------------------------ 17.5/45.9 MB 9.2 MB/s eta 0:00:04\n",
      "   --------------- ------------------------ 18.2/45.9 MB 9.1 MB/s eta 0:00:04\n",
      "   ---------------- ----------------------- 18.5/45.9 MB 8.8 MB/s eta 0:00:04\n",
      "   ---------------- ----------------------- 18.8/45.9 MB 9.0 MB/s eta 0:00:04\n",
      "   ---------------- ----------------------- 19.2/45.9 MB 8.7 MB/s eta 0:00:04\n",
      "   ---------------- ----------------------- 19.5/45.9 MB 8.6 MB/s eta 0:00:04\n",
      "   ----------------- ---------------------- 19.8/45.9 MB 8.5 MB/s eta 0:00:04\n",
      "   ----------------- ---------------------- 20.2/45.9 MB 8.5 MB/s eta 0:00:04\n",
      "   ----------------- ---------------------- 20.6/45.9 MB 8.5 MB/s eta 0:00:03\n",
      "   ------------------ --------------------- 20.9/45.9 MB 8.3 MB/s eta 0:00:04\n",
      "   ------------------ --------------------- 21.2/45.9 MB 8.3 MB/s eta 0:00:03\n",
      "   ------------------ --------------------- 21.5/45.9 MB 8.2 MB/s eta 0:00:03\n",
      "   ------------------- -------------------- 21.8/45.9 MB 8.1 MB/s eta 0:00:03\n",
      "   ------------------- -------------------- 22.1/45.9 MB 7.9 MB/s eta 0:00:04\n",
      "   ------------------- -------------------- 22.5/45.9 MB 8.0 MB/s eta 0:00:03\n",
      "   ------------------- -------------------- 22.8/45.9 MB 7.8 MB/s eta 0:00:03\n",
      "   -------------------- ------------------- 23.2/45.9 MB 7.8 MB/s eta 0:00:03\n",
      "   -------------------- ------------------- 23.5/45.9 MB 7.7 MB/s eta 0:00:03\n",
      "   -------------------- ------------------- 23.9/45.9 MB 7.6 MB/s eta 0:00:03\n",
      "   --------------------- ------------------ 24.3/45.9 MB 7.5 MB/s eta 0:00:03\n",
      "   --------------------- ------------------ 24.7/45.9 MB 7.5 MB/s eta 0:00:03\n",
      "   --------------------- ------------------ 25.0/45.9 MB 7.4 MB/s eta 0:00:03\n",
      "   ---------------------- ----------------- 25.4/45.9 MB 7.4 MB/s eta 0:00:03\n",
      "   ---------------------- ----------------- 25.7/45.9 MB 7.4 MB/s eta 0:00:03\n",
      "   ---------------------- ----------------- 26.0/45.9 MB 7.2 MB/s eta 0:00:03\n",
      "   ---------------------- ----------------- 26.4/45.9 MB 7.2 MB/s eta 0:00:03\n",
      "   ----------------------- ---------------- 26.7/45.9 MB 7.1 MB/s eta 0:00:03\n",
      "   ----------------------- ---------------- 27.1/45.9 MB 7.0 MB/s eta 0:00:03\n",
      "   ----------------------- ---------------- 27.5/45.9 MB 7.0 MB/s eta 0:00:03\n",
      "   ------------------------ --------------- 27.8/45.9 MB 7.3 MB/s eta 0:00:03\n",
      "   ------------------------ --------------- 28.2/45.9 MB 7.0 MB/s eta 0:00:03\n",
      "   ------------------------ --------------- 28.5/45.9 MB 7.0 MB/s eta 0:00:03\n",
      "   ------------------------- -------------- 28.8/45.9 MB 7.0 MB/s eta 0:00:03\n",
      "   ------------------------- -------------- 29.3/45.9 MB 7.0 MB/s eta 0:00:03\n",
      "   ------------------------- -------------- 29.6/45.9 MB 7.1 MB/s eta 0:00:03\n",
      "   -------------------------- ------------- 29.9/45.9 MB 7.1 MB/s eta 0:00:03\n",
      "   -------------------------- ------------- 30.3/45.9 MB 7.1 MB/s eta 0:00:03\n",
      "   -------------------------- ------------- 30.7/45.9 MB 7.2 MB/s eta 0:00:03\n",
      "   --------------------------- ------------ 31.1/45.9 MB 7.3 MB/s eta 0:00:03\n",
      "   --------------------------- ------------ 31.5/45.9 MB 7.2 MB/s eta 0:00:03\n",
      "   --------------------------- ------------ 31.8/45.9 MB 7.4 MB/s eta 0:00:02\n",
      "   ---------------------------- ----------- 32.2/45.9 MB 7.4 MB/s eta 0:00:02\n",
      "   ---------------------------- ----------- 32.7/45.9 MB 7.4 MB/s eta 0:00:02\n",
      "   ---------------------------- ----------- 33.0/45.9 MB 7.4 MB/s eta 0:00:02\n",
      "   ----------------------------- ---------- 33.4/45.9 MB 7.3 MB/s eta 0:00:02\n",
      "   ----------------------------- ---------- 33.8/45.9 MB 7.4 MB/s eta 0:00:02\n",
      "   ----------------------------- ---------- 34.1/45.9 MB 7.4 MB/s eta 0:00:02\n",
      "   ------------------------------ --------- 34.6/45.9 MB 7.5 MB/s eta 0:00:02\n",
      "   ------------------------------ --------- 35.0/45.9 MB 7.5 MB/s eta 0:00:02\n",
      "   ------------------------------ --------- 35.3/45.9 MB 7.4 MB/s eta 0:00:02\n",
      "   ------------------------------- -------- 35.6/45.9 MB 7.5 MB/s eta 0:00:02\n",
      "   ------------------------------- -------- 36.0/45.9 MB 7.6 MB/s eta 0:00:02\n",
      "   ------------------------------- -------- 36.3/45.9 MB 7.5 MB/s eta 0:00:02\n",
      "   ------------------------------- -------- 36.6/45.9 MB 7.5 MB/s eta 0:00:02\n",
      "   -------------------------------- ------- 37.0/45.9 MB 7.6 MB/s eta 0:00:02\n",
      "   -------------------------------- ------- 37.4/45.9 MB 7.5 MB/s eta 0:00:02\n",
      "   -------------------------------- ------- 37.7/45.9 MB 7.5 MB/s eta 0:00:02\n",
      "   --------------------------------- ------ 38.1/45.9 MB 7.6 MB/s eta 0:00:02\n",
      "   --------------------------------- ------ 38.5/45.9 MB 7.5 MB/s eta 0:00:01\n",
      "   --------------------------------- ------ 38.9/45.9 MB 7.6 MB/s eta 0:00:01\n",
      "   ---------------------------------- ----- 39.2/45.9 MB 7.7 MB/s eta 0:00:01\n",
      "   ---------------------------------- ----- 39.5/45.9 MB 7.6 MB/s eta 0:00:01\n",
      "   ---------------------------------- ----- 39.9/45.9 MB 7.7 MB/s eta 0:00:01\n",
      "   ----------------------------------- ---- 40.3/45.9 MB 7.7 MB/s eta 0:00:01\n",
      "   ----------------------------------- ---- 40.6/45.9 MB 7.8 MB/s eta 0:00:01\n",
      "   ----------------------------------- ---- 41.0/45.9 MB 7.7 MB/s eta 0:00:01\n",
      "   ------------------------------------ --- 41.4/45.9 MB 7.8 MB/s eta 0:00:01\n",
      "   ------------------------------------ --- 41.9/45.9 MB 7.8 MB/s eta 0:00:01\n",
      "   ------------------------------------ --- 42.3/45.9 MB 7.8 MB/s eta 0:00:01\n",
      "   ------------------------------------- -- 42.6/45.9 MB 7.8 MB/s eta 0:00:01\n",
      "   ------------------------------------- -- 43.0/45.9 MB 7.9 MB/s eta 0:00:01\n",
      "   ------------------------------------- -- 43.4/45.9 MB 7.7 MB/s eta 0:00:01\n",
      "   -------------------------------------- - 43.8/45.9 MB 7.8 MB/s eta 0:00:01\n",
      "   -------------------------------------- - 44.1/45.9 MB 7.9 MB/s eta 0:00:01\n",
      "   -------------------------------------- - 44.5/45.9 MB 8.0 MB/s eta 0:00:01\n",
      "   ---------------------------------------  44.9/45.9 MB 7.9 MB/s eta 0:00:01\n",
      "   ---------------------------------------  45.3/45.9 MB 7.9 MB/s eta 0:00:01\n",
      "   ---------------------------------------  45.7/45.9 MB 7.9 MB/s eta 0:00:01\n",
      "   ---------------------------------------  45.9/45.9 MB 8.0 MB/s eta 0:00:01\n",
      "   ---------------------------------------  45.9/45.9 MB 8.0 MB/s eta 0:00:01\n",
      "   ---------------------------------------  45.9/45.9 MB 8.0 MB/s eta 0:00:01\n",
      "   ---------------------------------------- 45.9/45.9 MB 7.1 MB/s eta 0:00:00\n",
      "Downloading threadpoolctl-3.4.0-py3-none-any.whl (17 kB)\n",
      "Installing collected packages: threadpoolctl, scipy, joblib, scikit-learn\n",
      "Successfully installed joblib-1.3.2 scikit-learn-1.4.1.post1 scipy-1.13.0 threadpoolctl-3.4.0\n"
     ]
    }
   ],
   "source": [
    "!pip install scikit-learn\n"
   ]
  },
  {
   "cell_type": "code",
   "execution_count": 13,
   "metadata": {},
   "outputs": [
    {
     "name": "stdout",
     "output_type": "stream",
     "text": [
      "Collecting matplotlib\n",
      "  Using cached matplotlib-3.8.3-cp312-cp312-win_amd64.whl.metadata (5.9 kB)\n",
      "Collecting contourpy>=1.0.1 (from matplotlib)\n",
      "  Using cached contourpy-1.2.1-cp312-cp312-win_amd64.whl.metadata (5.8 kB)\n",
      "Collecting cycler>=0.10 (from matplotlib)\n",
      "  Using cached cycler-0.12.1-py3-none-any.whl.metadata (3.8 kB)\n",
      "Requirement already satisfied: fonttools>=4.22.0 in c:\\python312\\lib\\site-packages (from matplotlib) (4.50.0)\n",
      "Requirement already satisfied: kiwisolver>=1.3.1 in c:\\python312\\lib\\site-packages (from matplotlib) (1.4.5)\n",
      "Requirement already satisfied: numpy<2,>=1.21 in c:\\python312\\lib\\site-packages (from matplotlib) (1.26.4)\n",
      "Requirement already satisfied: packaging>=20.0 in c:\\python312\\lib\\site-packages (from matplotlib) (24.0)\n",
      "Requirement already satisfied: pillow>=8 in c:\\python312\\lib\\site-packages (from matplotlib) (10.3.0)\n",
      "Requirement already satisfied: pyparsing>=2.3.1 in c:\\python312\\lib\\site-packages (from matplotlib) (3.1.2)\n",
      "Requirement already satisfied: python-dateutil>=2.7 in c:\\python312\\lib\\site-packages (from matplotlib) (2.9.0.post0)\n",
      "Requirement already satisfied: six>=1.5 in c:\\python312\\lib\\site-packages (from python-dateutil>=2.7->matplotlib) (1.16.0)\n",
      "Using cached matplotlib-3.8.3-cp312-cp312-win_amd64.whl (7.6 MB)\n",
      "Using cached contourpy-1.2.1-cp312-cp312-win_amd64.whl (189 kB)\n",
      "Using cached cycler-0.12.1-py3-none-any.whl (8.3 kB)\n",
      "Installing collected packages: cycler, contourpy, matplotlib\n",
      "Successfully installed contourpy-1.2.1 cycler-0.12.1 matplotlib-3.8.3\n"
     ]
    }
   ],
   "source": [
    "!pip install matplotlib --user\n",
    "\n"
   ]
  },
  {
   "cell_type": "code",
   "execution_count": 16,
   "metadata": {},
   "outputs": [
    {
     "name": "stdout",
     "output_type": "stream",
     "text": [
      "Name: matplotlib\n",
      "Version: 3.8.3\n",
      "Summary: Python plotting package\n",
      "Home-page: https://matplotlib.org\n",
      "Author: John D. Hunter, Michael Droettboom\n",
      "Author-email: matplotlib-users@python.org\n",
      "License: PSF\n",
      "Location: C:\\Users\\Dao Thi Huyen\\AppData\\Roaming\\Python\\Python312\\site-packages\n",
      "Requires: contourpy, cycler, fonttools, kiwisolver, numpy, packaging, pillow, pyparsing, python-dateutil\n",
      "Required-by: \n"
     ]
    }
   ],
   "source": [
    "!pip show matplotlib"
   ]
  },
  {
   "cell_type": "code",
   "execution_count": 21,
   "metadata": {
    "button": false,
    "colab": {
     "base_uri": "https://localhost:8080/"
    },
    "executionInfo": {
     "elapsed": 598,
     "status": "ok",
     "timestamp": 1663756442450,
     "user": {
      "displayName": "Sơn Nguyễn Hải",
      "userId": "15831383678878548038"
     },
     "user_tz": -420
    },
    "id": "Be69nN0i-629",
    "new_sheet": false,
    "outputId": "a4ce69ce-1ba3-48d4-e214-7f1505818ea1",
    "run_control": {
     "read_only": false
    }
   },
   "outputs": [
    {
     "ename": "ModuleNotFoundError",
     "evalue": "No module named 'matplotlib'",
     "output_type": "error",
     "traceback": [
      "\u001b[1;31m---------------------------------------------------------------------------\u001b[0m",
      "\u001b[1;31mModuleNotFoundError\u001b[0m                       Traceback (most recent call last)",
      "Cell \u001b[1;32mIn[21], line 6\u001b[0m\n\u001b[0;32m      3\u001b[0m \u001b[38;5;28;01mfrom\u001b[39;00m \u001b[38;5;21;01msklearn\u001b[39;00m \u001b[38;5;28;01mimport\u001b[39;00m tree\n\u001b[0;32m      4\u001b[0m \u001b[38;5;28;01mfrom\u001b[39;00m \u001b[38;5;21;01msklearn\u001b[39;00m\u001b[38;5;21;01m.\u001b[39;00m\u001b[38;5;21;01mmetrics\u001b[39;00m \u001b[38;5;28;01mimport\u001b[39;00m accuracy_score, confusion_matrix\n\u001b[1;32m----> 6\u001b[0m \u001b[38;5;28;01mimport\u001b[39;00m \u001b[38;5;21;01mmatplotlib\u001b[39;00m\u001b[38;5;21;01m.\u001b[39;00m\u001b[38;5;21;01mpyplot\u001b[39;00m \u001b[38;5;28;01mas\u001b[39;00m \u001b[38;5;21;01mplt\u001b[39;00m\n\u001b[0;32m      8\u001b[0m get_ipython()\u001b[38;5;241m.\u001b[39msystem(\u001b[38;5;124m'\u001b[39m\u001b[38;5;124mconda install python-graphviz --yes\u001b[39m\u001b[38;5;124m'\u001b[39m)\n\u001b[0;32m      9\u001b[0m \u001b[38;5;28;01mimport\u001b[39;00m \u001b[38;5;21;01mgraphviz\u001b[39;00m\n",
      "\u001b[1;31mModuleNotFoundError\u001b[0m: No module named 'matplotlib'"
     ]
    }
   ],
   "source": [
    "# import decision trees scikit-learn libraries\n",
    "#%matplotlib inline\n",
    "from sklearn import tree\n",
    "from sklearn.metrics import accuracy_score, confusion_matrix\n",
    "\n",
    "import matplotlib.pyplot as plt\n",
    "\n",
    "!conda install python-graphviz --yes\n",
    "import graphviz\n",
    "\n",
    "from sklearn.tree import export_graphviz\n",
    "\n",
    "import itertools"
   ]
  },
  {
   "cell_type": "markdown",
   "metadata": {
    "button": false,
    "id": "RBVtb1p--63i",
    "new_sheet": false,
    "run_control": {
     "read_only": false
    }
   },
   "source": [
    "Hãy kiểm tra lại dữ liệu!\n"
   ]
  },
  {
   "cell_type": "code",
   "execution_count": null,
   "metadata": {
    "button": false,
    "colab": {
     "base_uri": "https://localhost:8080/",
     "height": 270
    },
    "collapsed": false,
    "executionInfo": {
     "elapsed": 496,
     "status": "ok",
     "timestamp": 1663756442944,
     "user": {
      "displayName": "Sơn Nguyễn Hải",
      "userId": "15831383678878548038"
     },
     "user_tz": -420
    },
    "id": "JTeGUXKd-63k",
    "jupyter": {
     "outputs_hidden": false
    },
    "new_sheet": false,
    "outputId": "a7d2e8cc-e6ef-4719-ef76-0d3d0ca76d21",
    "run_control": {
     "read_only": false
    }
   },
   "outputs": [],
   "source": [
    "recipes.head()"
   ]
  },
  {
   "cell_type": "markdown",
   "metadata": {
    "button": false,
    "id": "Mdv_Pn_l-63t",
    "new_sheet": false,
    "run_control": {
     "read_only": false
    }
   },
   "source": [
    "## [bamboo_tree] Chỉ có Ẩm thực châu Á và Ấn Độ\n",
    "\n",
    "Ở đây, chúng ta đang tạo một cây quyết định cho các công thức nấu ăn chỉ cho một số món ăn Châu Á (Hàn Quốc, Nhật Bản, Trung Quốc, Thái Lan) và Ấn Độ. Lý do là vì cây quyết định không chạy tốt khi dữ liệu thiên về một nền ẩm thực, trong trường hợp này là các món ăn Mỹ. Có một phương án là loại trừ các món ăn Mỹ khỏi phân tích của chúng ta hoặc chỉ xây dựng cây quyết định cho các tập hợp con dữ liệu khác nhau. Hãy thực hiện giải pháp này.\n"
   ]
  },
  {
   "cell_type": "markdown",
   "metadata": {
    "button": false,
    "id": "GfVFwuCz-63v",
    "new_sheet": false,
    "run_control": {
     "read_only": false
    }
   },
   "source": [
    "Hãy xây dựng cây quyết định bằng cách sử dụng dữ liệu liên quan đến các món ăn Châu Á và Ấn Độ và đặt tên cho cây quyết định của chúng ta là _bamboo_tree_."
   ]
  },
  {
   "cell_type": "code",
   "execution_count": null,
   "metadata": {
    "id": "Fdfxpf8-5fSc"
   },
   "outputs": [],
   "source": [
    "# select subset of cuisines\n",
    "asian_indian_recipes = recipes[recipes.cuisine.isin([\"korean\", \"japanese\", \"chinese\", \"thai\", \"indian\"])]\n",
    "cuisines = asian_indian_recipes[\"cuisine\"]\n",
    "ingredients = asian_indian_recipes.iloc[:,1:]"
   ]
  },
  {
   "cell_type": "code",
   "execution_count": null,
   "metadata": {
    "id": "kVyuoeLu5kDc"
   },
   "outputs": [],
   "source": [
    "# Điền code vào đây\n",
    "bamboo_tree = tree.DecisionTreeClassifier(max_depth=3)"
   ]
  },
  {
   "cell_type": "markdown",
   "metadata": {
    "id": "HSBYv5ao5eEt"
   },
   "source": [
    "Nhấp đúp vào __đây__ để xem lời giải.\n",
    "<!-- \n",
    "DecisionTreeClassifier\n",
    "-->"
   ]
  },
  {
   "cell_type": "code",
   "execution_count": null,
   "metadata": {
    "button": false,
    "colab": {
     "base_uri": "https://localhost:8080/"
    },
    "collapsed": false,
    "executionInfo": {
     "elapsed": 332,
     "status": "ok",
     "timestamp": 1663756546562,
     "user": {
      "displayName": "Sơn Nguyễn Hải",
      "userId": "15831383678878548038"
     },
     "user_tz": -420
    },
    "id": "ivYcswPw-63w",
    "jupyter": {
     "outputs_hidden": false
    },
    "new_sheet": false,
    "outputId": "bf5edc53-f78d-4f49-fdbf-f58e4d515bb0",
    "run_control": {
     "read_only": false
    }
   },
   "outputs": [
    {
     "name": "stdout",
     "output_type": "stream",
     "text": [
      "Decision tree model saved to bamboo_tree!\n"
     ]
    }
   ],
   "source": [
    "bamboo_tree.fit(ingredients, cuisines)\n",
    "\n",
    "print(\"Decision tree model saved to bamboo_tree!\")"
   ]
  },
  {
   "cell_type": "markdown",
   "metadata": {
    "id": "AqE5at_N5tGN"
   },
   "source": [
    "Nhấp đúp vào __đây__ để xem lời giải.\n",
    "<!-- \n",
    "fit(ingredients, cuisines)\n",
    "-->"
   ]
  },
  {
   "cell_type": "markdown",
   "metadata": {
    "button": false,
    "id": "Zel2YJOt-637",
    "new_sheet": false,
    "run_control": {
     "read_only": false
    }
   },
   "source": [
    "Hãy vẽ biểu đồ cây quyết định và xem nó trông như thế nào."
   ]
  },
  {
   "cell_type": "code",
   "execution_count": null,
   "metadata": {
    "button": false,
    "colab": {
     "base_uri": "https://localhost:8080/",
     "height": 619
    },
    "collapsed": false,
    "executionInfo": {
     "elapsed": 673,
     "status": "ok",
     "timestamp": 1663756549061,
     "user": {
      "displayName": "Sơn Nguyễn Hải",
      "userId": "15831383678878548038"
     },
     "user_tz": -420
    },
    "id": "q2FjiT0m-638",
    "jupyter": {
     "outputs_hidden": false
    },
    "new_sheet": false,
    "outputId": "abc39820-12f4-465e-bc26-5bb05cba765a",
    "run_control": {
     "read_only": false
    }
   },
   "outputs": [
    {
     "data": {
      "image/svg+xml": [
       "<?xml version=\"1.0\" encoding=\"UTF-8\" standalone=\"no\"?>\n",
       "<!DOCTYPE svg PUBLIC \"-//W3C//DTD SVG 1.1//EN\"\n",
       " \"http://www.w3.org/Graphics/SVG/1.1/DTD/svg11.dtd\">\n",
       "<!-- Generated by graphviz version 2.40.1 (20161225.0304)\n",
       " -->\n",
       "<!-- Title: Tree Pages: 1 -->\n",
       "<svg width=\"1490pt\" height=\"433pt\"\n",
       " viewBox=\"0.00 0.00 1489.50 433.00\" xmlns=\"http://www.w3.org/2000/svg\" xmlns:xlink=\"http://www.w3.org/1999/xlink\">\n",
       "<g id=\"graph0\" class=\"graph\" transform=\"scale(1 1) rotate(0) translate(4 429)\">\n",
       "<title>Tree</title>\n",
       "<polygon fill=\"#ffffff\" stroke=\"transparent\" points=\"-4,4 -4,-429 1485.5,-429 1485.5,4 -4,4\"/>\n",
       "<!-- 0 -->\n",
       "<g id=\"node1\" class=\"node\">\n",
       "<title>0</title>\n",
       "<polygon fill=\"#eae9fc\" stroke=\"#000000\" points=\"891,-425 662,-425 662,-342 891,-342 891,-425\"/>\n",
       "<text text-anchor=\"start\" x=\"749.5\" y=\"-409.8\" font-family=\"Helvetica,sans-Serif\" font-size=\"14.00\" fill=\"#000000\">node #0</text>\n",
       "<text text-anchor=\"start\" x=\"739\" y=\"-394.8\" font-family=\"Helvetica,sans-Serif\" font-size=\"14.00\" fill=\"#000000\">cumin ≤ 0.5</text>\n",
       "<text text-anchor=\"start\" x=\"724.5\" y=\"-379.8\" font-family=\"Helvetica,sans-Serif\" font-size=\"14.00\" fill=\"#000000\">samples = 2448</text>\n",
       "<text text-anchor=\"start\" x=\"670\" y=\"-364.8\" font-family=\"Helvetica,sans-Serif\" font-size=\"14.00\" fill=\"#000000\">value = [442, 598, 320, 799, 289]</text>\n",
       "<text text-anchor=\"start\" x=\"729\" y=\"-349.8\" font-family=\"Helvetica,sans-Serif\" font-size=\"14.00\" fill=\"#000000\">class = korean</text>\n",
       "</g>\n",
       "<!-- 1 -->\n",
       "<g id=\"node2\" class=\"node\">\n",
       "<title>1</title>\n",
       "<polygon fill=\"#d2d1f9\" stroke=\"#000000\" points=\"726,-306 497,-306 497,-223 726,-223 726,-306\"/>\n",
       "<text text-anchor=\"start\" x=\"584.5\" y=\"-290.8\" font-family=\"Helvetica,sans-Serif\" font-size=\"14.00\" fill=\"#000000\">node #1</text>\n",
       "<text text-anchor=\"start\" x=\"519\" y=\"-275.8\" font-family=\"Helvetica,sans-Serif\" font-size=\"14.00\" fill=\"#000000\">roasted_sesame_seed ≤ 0.5</text>\n",
       "<text text-anchor=\"start\" x=\"559.5\" y=\"-260.8\" font-family=\"Helvetica,sans-Serif\" font-size=\"14.00\" fill=\"#000000\">samples = 1986</text>\n",
       "<text text-anchor=\"start\" x=\"505\" y=\"-245.8\" font-family=\"Helvetica,sans-Serif\" font-size=\"14.00\" fill=\"#000000\">value = [438, 237, 314, 796, 201]</text>\n",
       "<text text-anchor=\"start\" x=\"564\" y=\"-230.8\" font-family=\"Helvetica,sans-Serif\" font-size=\"14.00\" fill=\"#000000\">class = korean</text>\n",
       "</g>\n",
       "<!-- 0&#45;&gt;1 -->\n",
       "<g id=\"edge1\" class=\"edge\">\n",
       "<title>0&#45;&gt;1</title>\n",
       "<path fill=\"none\" stroke=\"#000000\" d=\"M718.791,-341.8796C705.477,-332.2774 691.2134,-321.9903 677.5741,-312.1534\"/>\n",
       "<polygon fill=\"#000000\" stroke=\"#000000\" points=\"679.3345,-309.1077 669.1764,-306.0969 675.2398,-314.7852 679.3345,-309.1077\"/>\n",
       "<text text-anchor=\"middle\" x=\"673.1736\" y=\"-327.0753\" font-family=\"Helvetica,sans-Serif\" font-size=\"14.00\" fill=\"#000000\">True</text>\n",
       "</g>\n",
       "<!-- 8 -->\n",
       "<g id=\"node9\" class=\"node\">\n",
       "<title>8</title>\n",
       "<polygon fill=\"#9fec6e\" stroke=\"#000000\" points=\"1057,-306 886,-306 886,-223 1057,-223 1057,-306\"/>\n",
       "<text text-anchor=\"start\" x=\"944.5\" y=\"-290.8\" font-family=\"Helvetica,sans-Serif\" font-size=\"14.00\" fill=\"#000000\">node #8</text>\n",
       "<text text-anchor=\"start\" x=\"942.5\" y=\"-275.8\" font-family=\"Helvetica,sans-Serif\" font-size=\"14.00\" fill=\"#000000\">fish ≤ 0.5</text>\n",
       "<text text-anchor=\"start\" x=\"923.5\" y=\"-260.8\" font-family=\"Helvetica,sans-Serif\" font-size=\"14.00\" fill=\"#000000\">samples = 462</text>\n",
       "<text text-anchor=\"start\" x=\"894\" y=\"-245.8\" font-family=\"Helvetica,sans-Serif\" font-size=\"14.00\" fill=\"#000000\">value = [4, 361, 6, 3, 88]</text>\n",
       "<text text-anchor=\"start\" x=\"927\" y=\"-230.8\" font-family=\"Helvetica,sans-Serif\" font-size=\"14.00\" fill=\"#000000\">class = indian</text>\n",
       "</g>\n",
       "<!-- 0&#45;&gt;8 -->\n",
       "<g id=\"edge8\" class=\"edge\">\n",
       "<title>0&#45;&gt;8</title>\n",
       "<path fill=\"none\" stroke=\"#000000\" d=\"M844.7015,-341.8796C860.8816,-332.0056 878.2483,-321.4075 894.7792,-311.3193\"/>\n",
       "<polygon fill=\"#000000\" stroke=\"#000000\" points=\"896.6241,-314.2938 903.337,-306.0969 892.9777,-308.3185 896.6241,-314.2938\"/>\n",
       "<text text-anchor=\"middle\" x=\"897.4558\" y=\"-326.6953\" font-family=\"Helvetica,sans-Serif\" font-size=\"14.00\" fill=\"#000000\">False</text>\n",
       "</g>\n",
       "<!-- 2 -->\n",
       "<g id=\"node3\" class=\"node\">\n",
       "<title>2</title>\n",
       "<polygon fill=\"#ececfc\" stroke=\"#000000\" points=\"456,-187 227,-187 227,-104 456,-104 456,-187\"/>\n",
       "<text text-anchor=\"start\" x=\"314.5\" y=\"-171.8\" font-family=\"Helvetica,sans-Serif\" font-size=\"14.00\" fill=\"#000000\">node #2</text>\n",
       "<text text-anchor=\"start\" x=\"303.5\" y=\"-156.8\" font-family=\"Helvetica,sans-Serif\" font-size=\"14.00\" fill=\"#000000\">starch ≤ 0.5</text>\n",
       "<text text-anchor=\"start\" x=\"289.5\" y=\"-141.8\" font-family=\"Helvetica,sans-Serif\" font-size=\"14.00\" fill=\"#000000\">samples = 1738</text>\n",
       "<text text-anchor=\"start\" x=\"235\" y=\"-126.8\" font-family=\"Helvetica,sans-Serif\" font-size=\"14.00\" fill=\"#000000\">value = [433, 237, 309, 560, 199]</text>\n",
       "<text text-anchor=\"start\" x=\"294\" y=\"-111.8\" font-family=\"Helvetica,sans-Serif\" font-size=\"14.00\" fill=\"#000000\">class = korean</text>\n",
       "</g>\n",
       "<!-- 1&#45;&gt;2 -->\n",
       "<g id=\"edge2\" class=\"edge\">\n",
       "<title>1&#45;&gt;2</title>\n",
       "<path fill=\"none\" stroke=\"#000000\" d=\"M517.0671,-222.8796C493.8419,-212.6433 468.8507,-201.6286 445.2137,-191.2108\"/>\n",
       "<polygon fill=\"#000000\" stroke=\"#000000\" points=\"446.4418,-187.9273 435.8796,-187.0969 443.6186,-194.3328 446.4418,-187.9273\"/>\n",
       "</g>\n",
       "<!-- 5 -->\n",
       "<g id=\"node6\" class=\"node\">\n",
       "<title>5</title>\n",
       "<polygon fill=\"#4643e6\" stroke=\"#000000\" points=\"693,-187 530,-187 530,-104 693,-104 693,-187\"/>\n",
       "<text text-anchor=\"start\" x=\"584.5\" y=\"-171.8\" font-family=\"Helvetica,sans-Serif\" font-size=\"14.00\" fill=\"#000000\">node #5</text>\n",
       "<text text-anchor=\"start\" x=\"570.5\" y=\"-156.8\" font-family=\"Helvetica,sans-Serif\" font-size=\"14.00\" fill=\"#000000\">cilantro ≤ 0.5</text>\n",
       "<text text-anchor=\"start\" x=\"563.5\" y=\"-141.8\" font-family=\"Helvetica,sans-Serif\" font-size=\"14.00\" fill=\"#000000\">samples = 248</text>\n",
       "<text text-anchor=\"start\" x=\"538\" y=\"-126.8\" font-family=\"Helvetica,sans-Serif\" font-size=\"14.00\" fill=\"#000000\">value = [5, 0, 5, 236, 2]</text>\n",
       "<text text-anchor=\"start\" x=\"564\" y=\"-111.8\" font-family=\"Helvetica,sans-Serif\" font-size=\"14.00\" fill=\"#000000\">class = korean</text>\n",
       "</g>\n",
       "<!-- 1&#45;&gt;5 -->\n",
       "<g id=\"edge5\" class=\"edge\">\n",
       "<title>1&#45;&gt;5</title>\n",
       "<path fill=\"none\" stroke=\"#000000\" d=\"M611.5,-222.8796C611.5,-214.6838 611.5,-205.9891 611.5,-197.5013\"/>\n",
       "<polygon fill=\"#000000\" stroke=\"#000000\" points=\"615.0001,-197.298 611.5,-187.2981 608.0001,-197.2981 615.0001,-197.298\"/>\n",
       "</g>\n",
       "<!-- 3 -->\n",
       "<g id=\"node4\" class=\"node\">\n",
       "<title>3</title>\n",
       "<polygon fill=\"#dbdafa\" stroke=\"#000000\" points=\"229,-68 0,-68 0,0 229,0 229,-68\"/>\n",
       "<text text-anchor=\"start\" x=\"87.5\" y=\"-52.8\" font-family=\"Helvetica,sans-Serif\" font-size=\"14.00\" fill=\"#000000\">node #3</text>\n",
       "<text text-anchor=\"start\" x=\"62.5\" y=\"-37.8\" font-family=\"Helvetica,sans-Serif\" font-size=\"14.00\" fill=\"#000000\">samples = 1507</text>\n",
       "<text text-anchor=\"start\" x=\"8\" y=\"-22.8\" font-family=\"Helvetica,sans-Serif\" font-size=\"14.00\" fill=\"#000000\">value = [273, 235, 293, 519, 187]</text>\n",
       "<text text-anchor=\"start\" x=\"67\" y=\"-7.8\" font-family=\"Helvetica,sans-Serif\" font-size=\"14.00\" fill=\"#000000\">class = korean</text>\n",
       "</g>\n",
       "<!-- 2&#45;&gt;3 -->\n",
       "<g id=\"edge3\" class=\"edge\">\n",
       "<title>2&#45;&gt;3</title>\n",
       "<path fill=\"none\" stroke=\"#000000\" d=\"M256.9736,-103.9815C236.001,-93.68 213.6139,-82.6837 192.9462,-72.532\"/>\n",
       "<polygon fill=\"#000000\" stroke=\"#000000\" points=\"194.4128,-69.3529 183.8941,-68.0856 191.3267,-75.6359 194.4128,-69.3529\"/>\n",
       "</g>\n",
       "<!-- 4 -->\n",
       "<g id=\"node5\" class=\"node\">\n",
       "<title>4</title>\n",
       "<polygon fill=\"#efb083\" stroke=\"#000000\" points=\"435.5,-68 247.5,-68 247.5,0 435.5,0 435.5,-68\"/>\n",
       "<text text-anchor=\"start\" x=\"314.5\" y=\"-52.8\" font-family=\"Helvetica,sans-Serif\" font-size=\"14.00\" fill=\"#000000\">node #4</text>\n",
       "<text text-anchor=\"start\" x=\"293.5\" y=\"-37.8\" font-family=\"Helvetica,sans-Serif\" font-size=\"14.00\" fill=\"#000000\">samples = 231</text>\n",
       "<text text-anchor=\"start\" x=\"255.5\" y=\"-22.8\" font-family=\"Helvetica,sans-Serif\" font-size=\"14.00\" fill=\"#000000\">value = [160, 2, 16, 41, 12]</text>\n",
       "<text text-anchor=\"start\" x=\"291\" y=\"-7.8\" font-family=\"Helvetica,sans-Serif\" font-size=\"14.00\" fill=\"#000000\">class = chinese</text>\n",
       "</g>\n",
       "<!-- 2&#45;&gt;4 -->\n",
       "<g id=\"edge4\" class=\"edge\">\n",
       "<title>2&#45;&gt;4</title>\n",
       "<path fill=\"none\" stroke=\"#000000\" d=\"M341.5,-103.9815C341.5,-95.618 341.5,-86.7965 341.5,-78.3409\"/>\n",
       "<polygon fill=\"#000000\" stroke=\"#000000\" points=\"345.0001,-78.2636 341.5,-68.2637 338.0001,-78.2637 345.0001,-78.2636\"/>\n",
       "</g>\n",
       "<!-- 6 -->\n",
       "<g id=\"node7\" class=\"node\">\n",
       "<title>6</title>\n",
       "<polygon fill=\"#4441e6\" stroke=\"#000000\" points=\"617,-68 454,-68 454,0 617,0 617,-68\"/>\n",
       "<text text-anchor=\"start\" x=\"508.5\" y=\"-52.8\" font-family=\"Helvetica,sans-Serif\" font-size=\"14.00\" fill=\"#000000\">node #6</text>\n",
       "<text text-anchor=\"start\" x=\"487.5\" y=\"-37.8\" font-family=\"Helvetica,sans-Serif\" font-size=\"14.00\" fill=\"#000000\">samples = 246</text>\n",
       "<text text-anchor=\"start\" x=\"462\" y=\"-22.8\" font-family=\"Helvetica,sans-Serif\" font-size=\"14.00\" fill=\"#000000\">value = [4, 0, 5, 236, 1]</text>\n",
       "<text text-anchor=\"start\" x=\"488\" y=\"-7.8\" font-family=\"Helvetica,sans-Serif\" font-size=\"14.00\" fill=\"#000000\">class = korean</text>\n",
       "</g>\n",
       "<!-- 5&#45;&gt;6 -->\n",
       "<g id=\"edge6\" class=\"edge\">\n",
       "<title>5&#45;&gt;6</title>\n",
       "<path fill=\"none\" stroke=\"#000000\" d=\"M583.2004,-103.9815C577.1238,-95.0666 570.6926,-85.6313 564.5868,-76.6734\"/>\n",
       "<polygon fill=\"#000000\" stroke=\"#000000\" points=\"567.3789,-74.5555 558.8546,-68.2637 561.5948,-78.498 567.3789,-74.5555\"/>\n",
       "</g>\n",
       "<!-- 7 -->\n",
       "<g id=\"node8\" class=\"node\">\n",
       "<title>7</title>\n",
       "<polygon fill=\"#ffffff\" stroke=\"#000000\" points=\"781.5,-68 635.5,-68 635.5,0 781.5,0 781.5,-68\"/>\n",
       "<text text-anchor=\"start\" x=\"681.5\" y=\"-52.8\" font-family=\"Helvetica,sans-Serif\" font-size=\"14.00\" fill=\"#000000\">node #7</text>\n",
       "<text text-anchor=\"start\" x=\"669\" y=\"-37.8\" font-family=\"Helvetica,sans-Serif\" font-size=\"14.00\" fill=\"#000000\">samples = 2</text>\n",
       "<text text-anchor=\"start\" x=\"643.5\" y=\"-22.8\" font-family=\"Helvetica,sans-Serif\" font-size=\"14.00\" fill=\"#000000\">value = [1, 0, 0, 0, 1]</text>\n",
       "<text text-anchor=\"start\" x=\"658\" y=\"-7.8\" font-family=\"Helvetica,sans-Serif\" font-size=\"14.00\" fill=\"#000000\">class = chinese</text>\n",
       "</g>\n",
       "<!-- 5&#45;&gt;7 -->\n",
       "<g id=\"edge7\" class=\"edge\">\n",
       "<title>5&#45;&gt;7</title>\n",
       "<path fill=\"none\" stroke=\"#000000\" d=\"M647.6192,-103.9815C655.6147,-94.7908 664.0913,-85.0472 672.0979,-75.8436\"/>\n",
       "<polygon fill=\"#000000\" stroke=\"#000000\" points=\"674.7693,-78.1055 678.6921,-68.2637 669.488,-73.5111 674.7693,-78.1055\"/>\n",
       "</g>\n",
       "<!-- 9 -->\n",
       "<g id=\"node10\" class=\"node\">\n",
       "<title>9</title>\n",
       "<polygon fill=\"#8ee956\" stroke=\"#000000\" points=\"1057,-187 886,-187 886,-104 1057,-104 1057,-187\"/>\n",
       "<text text-anchor=\"start\" x=\"944.5\" y=\"-171.8\" font-family=\"Helvetica,sans-Serif\" font-size=\"14.00\" fill=\"#000000\">node #9</text>\n",
       "<text text-anchor=\"start\" x=\"918\" y=\"-156.8\" font-family=\"Helvetica,sans-Serif\" font-size=\"14.00\" fill=\"#000000\">soy_sauce ≤ 0.5</text>\n",
       "<text text-anchor=\"start\" x=\"923.5\" y=\"-141.8\" font-family=\"Helvetica,sans-Serif\" font-size=\"14.00\" fill=\"#000000\">samples = 405</text>\n",
       "<text text-anchor=\"start\" x=\"894\" y=\"-126.8\" font-family=\"Helvetica,sans-Serif\" font-size=\"14.00\" fill=\"#000000\">value = [4, 353, 3, 1, 44]</text>\n",
       "<text text-anchor=\"start\" x=\"927\" y=\"-111.8\" font-family=\"Helvetica,sans-Serif\" font-size=\"14.00\" fill=\"#000000\">class = indian</text>\n",
       "</g>\n",
       "<!-- 8&#45;&gt;9 -->\n",
       "<g id=\"edge9\" class=\"edge\">\n",
       "<title>8&#45;&gt;9</title>\n",
       "<path fill=\"none\" stroke=\"#000000\" d=\"M971.5,-222.8796C971.5,-214.6838 971.5,-205.9891 971.5,-197.5013\"/>\n",
       "<polygon fill=\"#000000\" stroke=\"#000000\" points=\"975.0001,-197.298 971.5,-187.2981 968.0001,-197.2981 975.0001,-197.298\"/>\n",
       "</g>\n",
       "<!-- 12 -->\n",
       "<g id=\"node13\" class=\"node\">\n",
       "<title>12</title>\n",
       "<polygon fill=\"#ec6ed1\" stroke=\"#000000\" points=\"1317,-187 1162,-187 1162,-104 1317,-104 1317,-187\"/>\n",
       "<text text-anchor=\"start\" x=\"1208.5\" y=\"-171.8\" font-family=\"Helvetica,sans-Serif\" font-size=\"14.00\" fill=\"#000000\">node #12</text>\n",
       "<text text-anchor=\"start\" x=\"1201.5\" y=\"-156.8\" font-family=\"Helvetica,sans-Serif\" font-size=\"14.00\" fill=\"#000000\">yogurt ≤ 0.5</text>\n",
       "<text text-anchor=\"start\" x=\"1195.5\" y=\"-141.8\" font-family=\"Helvetica,sans-Serif\" font-size=\"14.00\" fill=\"#000000\">samples = 57</text>\n",
       "<text text-anchor=\"start\" x=\"1170\" y=\"-126.8\" font-family=\"Helvetica,sans-Serif\" font-size=\"14.00\" fill=\"#000000\">value = [0, 8, 3, 2, 44]</text>\n",
       "<text text-anchor=\"start\" x=\"1203\" y=\"-111.8\" font-family=\"Helvetica,sans-Serif\" font-size=\"14.00\" fill=\"#000000\">class = thai</text>\n",
       "</g>\n",
       "<!-- 8&#45;&gt;12 -->\n",
       "<g id=\"edge12\" class=\"edge\">\n",
       "<title>8&#45;&gt;12</title>\n",
       "<path fill=\"none\" stroke=\"#000000\" d=\"M1057.0337,-226.5205C1087.4367,-213.0207 1121.6866,-197.8127 1152.2327,-184.2493\"/>\n",
       "<polygon fill=\"#000000\" stroke=\"#000000\" points=\"1153.8662,-187.3536 1161.5853,-180.0965 1151.0254,-180.9559 1153.8662,-187.3536\"/>\n",
       "</g>\n",
       "<!-- 10 -->\n",
       "<g id=\"node11\" class=\"node\">\n",
       "<title>10</title>\n",
       "<polygon fill=\"#86e749\" stroke=\"#000000\" points=\"971,-68 800,-68 800,0 971,0 971,-68\"/>\n",
       "<text text-anchor=\"start\" x=\"854.5\" y=\"-52.8\" font-family=\"Helvetica,sans-Serif\" font-size=\"14.00\" fill=\"#000000\">node #10</text>\n",
       "<text text-anchor=\"start\" x=\"837.5\" y=\"-37.8\" font-family=\"Helvetica,sans-Serif\" font-size=\"14.00\" fill=\"#000000\">samples = 375</text>\n",
       "<text text-anchor=\"start\" x=\"808\" y=\"-22.8\" font-family=\"Helvetica,sans-Serif\" font-size=\"14.00\" fill=\"#000000\">value = [1, 346, 2, 1, 25]</text>\n",
       "<text text-anchor=\"start\" x=\"841\" y=\"-7.8\" font-family=\"Helvetica,sans-Serif\" font-size=\"14.00\" fill=\"#000000\">class = indian</text>\n",
       "</g>\n",
       "<!-- 9&#45;&gt;10 -->\n",
       "<g id=\"edge10\" class=\"edge\">\n",
       "<title>9&#45;&gt;10</title>\n",
       "<path fill=\"none\" stroke=\"#000000\" d=\"M939.4768,-103.9815C932.5298,-94.9747 925.1731,-85.4367 918.2004,-76.3965\"/>\n",
       "<polygon fill=\"#000000\" stroke=\"#000000\" points=\"920.8064,-74.0444 911.9276,-68.2637 915.2636,-78.3196 920.8064,-74.0444\"/>\n",
       "</g>\n",
       "<!-- 11 -->\n",
       "<g id=\"node12\" class=\"node\">\n",
       "<title>11</title>\n",
       "<polygon fill=\"#f198de\" stroke=\"#000000\" points=\"1144,-68 989,-68 989,0 1144,0 1144,-68\"/>\n",
       "<text text-anchor=\"start\" x=\"1035.5\" y=\"-52.8\" font-family=\"Helvetica,sans-Serif\" font-size=\"14.00\" fill=\"#000000\">node #11</text>\n",
       "<text text-anchor=\"start\" x=\"1022.5\" y=\"-37.8\" font-family=\"Helvetica,sans-Serif\" font-size=\"14.00\" fill=\"#000000\">samples = 30</text>\n",
       "<text text-anchor=\"start\" x=\"997\" y=\"-22.8\" font-family=\"Helvetica,sans-Serif\" font-size=\"14.00\" fill=\"#000000\">value = [3, 7, 1, 0, 19]</text>\n",
       "<text text-anchor=\"start\" x=\"1030\" y=\"-7.8\" font-family=\"Helvetica,sans-Serif\" font-size=\"14.00\" fill=\"#000000\">class = thai</text>\n",
       "</g>\n",
       "<!-- 9&#45;&gt;11 -->\n",
       "<g id=\"edge11\" class=\"edge\">\n",
       "<title>9&#45;&gt;11</title>\n",
       "<path fill=\"none\" stroke=\"#000000\" d=\"M1006.8745,-103.9815C1014.6268,-94.8828 1022.8409,-85.242 1030.6131,-76.1199\"/>\n",
       "<polygon fill=\"#000000\" stroke=\"#000000\" points=\"1033.4854,-78.1454 1037.3067,-68.2637 1028.1572,-73.6056 1033.4854,-78.1454\"/>\n",
       "</g>\n",
       "<!-- 13 -->\n",
       "<g id=\"node14\" class=\"node\">\n",
       "<title>13</title>\n",
       "<polygon fill=\"#e959ca\" stroke=\"#000000\" points=\"1317,-68 1162,-68 1162,0 1317,0 1317,-68\"/>\n",
       "<text text-anchor=\"start\" x=\"1208.5\" y=\"-52.8\" font-family=\"Helvetica,sans-Serif\" font-size=\"14.00\" fill=\"#000000\">node #13</text>\n",
       "<text text-anchor=\"start\" x=\"1195.5\" y=\"-37.8\" font-family=\"Helvetica,sans-Serif\" font-size=\"14.00\" fill=\"#000000\">samples = 52</text>\n",
       "<text text-anchor=\"start\" x=\"1170\" y=\"-22.8\" font-family=\"Helvetica,sans-Serif\" font-size=\"14.00\" fill=\"#000000\">value = [0, 3, 3, 2, 44]</text>\n",
       "<text text-anchor=\"start\" x=\"1203\" y=\"-7.8\" font-family=\"Helvetica,sans-Serif\" font-size=\"14.00\" fill=\"#000000\">class = thai</text>\n",
       "</g>\n",
       "<!-- 12&#45;&gt;13 -->\n",
       "<g id=\"edge13\" class=\"edge\">\n",
       "<title>12&#45;&gt;13</title>\n",
       "<path fill=\"none\" stroke=\"#000000\" d=\"M1239.5,-103.9815C1239.5,-95.618 1239.5,-86.7965 1239.5,-78.3409\"/>\n",
       "<polygon fill=\"#000000\" stroke=\"#000000\" points=\"1243.0001,-78.2636 1239.5,-68.2637 1236.0001,-78.2637 1243.0001,-78.2636\"/>\n",
       "</g>\n",
       "<!-- 14 -->\n",
       "<g id=\"node15\" class=\"node\">\n",
       "<title>14</title>\n",
       "<polygon fill=\"#7be539\" stroke=\"#000000\" points=\"1481.5,-68 1335.5,-68 1335.5,0 1481.5,0 1481.5,-68\"/>\n",
       "<text text-anchor=\"start\" x=\"1377.5\" y=\"-52.8\" font-family=\"Helvetica,sans-Serif\" font-size=\"14.00\" fill=\"#000000\">node #14</text>\n",
       "<text text-anchor=\"start\" x=\"1369\" y=\"-37.8\" font-family=\"Helvetica,sans-Serif\" font-size=\"14.00\" fill=\"#000000\">samples = 5</text>\n",
       "<text text-anchor=\"start\" x=\"1343.5\" y=\"-22.8\" font-family=\"Helvetica,sans-Serif\" font-size=\"14.00\" fill=\"#000000\">value = [0, 5, 0, 0, 0]</text>\n",
       "<text text-anchor=\"start\" x=\"1364\" y=\"-7.8\" font-family=\"Helvetica,sans-Serif\" font-size=\"14.00\" fill=\"#000000\">class = indian</text>\n",
       "</g>\n",
       "<!-- 12&#45;&gt;14 -->\n",
       "<g id=\"edge14\" class=\"edge\">\n",
       "<title>12&#45;&gt;14</title>\n",
       "<path fill=\"none\" stroke=\"#000000\" d=\"M1302.4294,-103.9815C1317.4132,-94.0957 1333.3668,-83.5701 1348.2282,-73.7651\"/>\n",
       "<polygon fill=\"#000000\" stroke=\"#000000\" points=\"1350.417,-76.5142 1356.8366,-68.0856 1346.5621,-70.6713 1350.417,-76.5142\"/>\n",
       "</g>\n",
       "</g>\n",
       "</svg>\n"
      ],
      "text/plain": [
       "<graphviz.files.Source at 0x7fceb78beb50>"
      ]
     },
     "execution_count": 12,
     "metadata": {},
     "output_type": "execute_result"
    }
   ],
   "source": [
    "export_graphviz(bamboo_tree,\n",
    "                feature_names=list(ingredients.columns.values),\n",
    "                out_file=\"bamboo_tree.dot\",\n",
    "                class_names=np.unique(cuisines),\n",
    "                filled=True,\n",
    "                node_ids=True,\n",
    "                special_characters=True,\n",
    "                impurity=False,\n",
    "                label=\"all\",\n",
    "                leaves_parallel=False)\n",
    "\n",
    "with open(\"bamboo_tree.dot\") as bamboo_tree_image:\n",
    "    bamboo_tree_graph = bamboo_tree_image.read()\n",
    "graphviz.Source(bamboo_tree_graph)"
   ]
  },
  {
   "cell_type": "markdown",
   "metadata": {
    "button": false,
    "id": "e6YkItx5-64S",
    "new_sheet": false,
    "run_control": {
     "read_only": false
    }
   },
   "source": [
    "Cây quyết định cho rằng:\n",
    "\n",
    "- Nếu một công thức có chứa _cumin_ và _fish_ và **không có** _yoghurt_, thì rất có thể đó là công thức **Thái**.\n",
    "- Nếu một công thức có chứa _cumin_ nhưng **không có** _fish_ và **không có** _soy_sauce_, thì rất có thể đó là một công thức **Ấn Độ**.\n"
   ]
  },
  {
   "cell_type": "markdown",
   "metadata": {
    "button": false,
    "id": "fO2wEorg-64T",
    "new_sheet": false,
    "run_control": {
     "read_only": false
    }
   },
   "source": [
    "Bạn có thể phân tích các nhánh còn lại của cây để đưa ra các quy tắc tương tự nhằm xác định ẩm thực của các công thức nấu ăn khác nhau.\n"
   ]
  },
  {
   "cell_type": "markdown",
   "metadata": {
    "button": false,
    "id": "TLTRn1v6-64V",
    "new_sheet": false,
    "run_control": {
     "read_only": false
    }
   },
   "source": [
    "Hãy thoải mái chọn một tập hợp con các món ăn khác và xây dựng một cây quyết định về công thức nấu ăn của chúng. Bạn có thể chọn một số món ăn Châu Âu và xây dựng một cây quyết định để khám phá các thành phần tạo nên sự khác biệt giữa chúng.\n"
   ]
  },
  {
   "cell_type": "markdown",
   "metadata": {
    "button": false,
    "id": "SX4j3cPs-64Y",
    "new_sheet": false,
    "run_control": {
     "read_only": false
    }
   },
   "source": [
    "# Đánh giá mô hình <a id=\"4\"></a>\n"
   ]
  },
  {
   "cell_type": "markdown",
   "metadata": {
    "button": false,
    "id": "fDFSdGxp-64a",
    "new_sheet": false,
    "run_control": {
     "read_only": false
    }
   },
   "source": [
    "<img src=\"https://s3-api.us-geo.objectstorage.softlayer.net/cf-courses-data/CognitiveClass/DS0103EN/labs/images/lab4_fig5_flowchart_evaluation.png\" width=500>\n"
   ]
  },
  {
   "cell_type": "markdown",
   "metadata": {
    "button": false,
    "id": "wXBAwnJn-64c",
    "new_sheet": false,
    "run_control": {
     "read_only": false
    }
   },
   "source": [
    "Để đánh giá mô hình ẩm thực châu Á và Ấn Độ, chúng ta sẽ chia tập dữ liệu của mình thành tập huấn luyện (training set) và tập thử nghiệm (test set). Chúng ta sẽ xây dựng cây quyết định bằng cách sử dụng tập huấn luyện. Sau đó, chúng ta sẽ kiểm tra mô hình trên tập thử nghiệm và so sánh các món ăn mà mô hình dự đoán với các món ăn thực tế."
   ]
  },
  {
   "cell_type": "markdown",
   "metadata": {
    "button": false,
    "id": "l5AUWJYj-64e",
    "new_sheet": false,
    "run_control": {
     "read_only": false
    }
   },
   "source": [
    "Trước tiên, hãy tạo một khung dữ liệu mới chỉ sử dụng dữ liệu liên quan đến các món ăn Châu Á và Ấn Độ, và chúng ta hãy gọi khung dữ liệu mới là **bamboo**.\n"
   ]
  },
  {
   "cell_type": "code",
   "execution_count": null,
   "metadata": {
    "button": false,
    "collapsed": true,
    "id": "fkmJZ0nI-64g",
    "jupyter": {
     "outputs_hidden": true
    },
    "new_sheet": false,
    "run_control": {
     "read_only": false
    }
   },
   "outputs": [],
   "source": [
    "bamboo = recipes[recipes.cuisine.isin([\"korean\", \"japanese\", \"chinese\", \"thai\", \"indian\"])]"
   ]
  },
  {
   "cell_type": "markdown",
   "metadata": {
    "button": false,
    "id": "Sr5y_t5H-64o",
    "new_sheet": false,
    "run_control": {
     "read_only": false
    }
   },
   "source": [
    "Hãy xem có bao nhiêu công thức nấu ăn của từng nền ẩm thực.\n"
   ]
  },
  {
   "cell_type": "code",
   "execution_count": null,
   "metadata": {
    "button": false,
    "collapsed": false,
    "id": "JifdfCm2-64w",
    "jupyter": {
     "outputs_hidden": false
    },
    "new_sheet": false,
    "run_control": {
     "read_only": false
    }
   },
   "outputs": [],
   "source": [
    "# Điền code vài đây\n",
    "bamboo[\"cuisine\"]...()"
   ]
  },
  {
   "cell_type": "markdown",
   "metadata": {
    "id": "7M0zwpFi52Oe"
   },
   "source": [
    "Nhấp đúp vào __đây__ để xem lời giải.\n",
    "<!-- \n",
    "value_counts\n",
    "-->"
   ]
  },
  {
   "cell_type": "markdown",
   "metadata": {
    "button": false,
    "id": "8uVNNxl3-647",
    "new_sheet": false,
    "run_control": {
     "read_only": false
    }
   },
   "source": [
    "Hãy xóa 30 công thức nấu ăn từ mỗi nền ẩm thực để sử dụng làm tập thử nghiệm và đặt tên cho tập thử nghiệm này là **bamboo_test**.\n"
   ]
  },
  {
   "cell_type": "code",
   "execution_count": null,
   "metadata": {
    "button": false,
    "collapsed": true,
    "id": "i9H6yGLk-648",
    "jupyter": {
     "outputs_hidden": true
    },
    "new_sheet": false,
    "run_control": {
     "read_only": false
    }
   },
   "outputs": [],
   "source": [
    "# set sample size\n",
    "sample_n = 30"
   ]
  },
  {
   "cell_type": "markdown",
   "metadata": {
    "button": false,
    "id": "ymTQexV6-65G",
    "new_sheet": false,
    "run_control": {
     "read_only": false
    }
   },
   "source": [
    "Tạo khung dữ liệu chứa 30 công thức nấu ăn từ mỗi nền ẩm thực, được chọn ngẫu nhiên.\n"
   ]
  },
  {
   "cell_type": "code",
   "execution_count": null,
   "metadata": {
    "button": false,
    "collapsed": true,
    "id": "oaiChJPn-65H",
    "jupyter": {
     "outputs_hidden": true
    },
    "new_sheet": false,
    "run_control": {
     "read_only": false
    }
   },
   "outputs": [],
   "source": [
    "# take 30 recipes from each cuisine\n",
    "random.seed(1234) # set random seed\n",
    "\n",
    "# Điền code vào đây\n",
    "bamboo_test = bamboo....(\"cuisine\", group_keys=False).apply(lambda x: x.sample(sample_n))\n",
    "\n",
    "bamboo_test_ingredients = bamboo_test.iloc[:,1:] # ingredients\n",
    "bamboo_test_cuisines = bamboo_test[\"cuisine\"] # corresponding cuisines or labels"
   ]
  },
  {
   "cell_type": "markdown",
   "metadata": {
    "id": "owCqd8GG6o-e"
   },
   "source": [
    "Nhấp đúp vào __đây__ để xem lời giải.\n",
    "<!-- \n",
    "groupby\n",
    "-->"
   ]
  },
  {
   "cell_type": "markdown",
   "metadata": {
    "button": false,
    "id": "eobfgh6X-65O",
    "new_sheet": false,
    "run_control": {
     "read_only": false
    }
   },
   "source": [
    "Kiếm tra thấy mỗi nền ẩm thực có 30 công thức.\n"
   ]
  },
  {
   "cell_type": "code",
   "execution_count": null,
   "metadata": {
    "button": false,
    "collapsed": false,
    "id": "pF_gw5LN-65Q",
    "jupyter": {
     "outputs_hidden": false
    },
    "new_sheet": false,
    "run_control": {
     "read_only": false
    }
   },
   "outputs": [],
   "source": [
    "# check that we have 30 recipes from each cuisine\n",
    "bamboo_test[\"cuisine\"].value_counts()"
   ]
  },
  {
   "cell_type": "markdown",
   "metadata": {
    "button": false,
    "id": "Fmsr9spQ-65i",
    "new_sheet": false,
    "run_control": {
     "read_only": false
    }
   },
   "source": [
    "Tiếp theo, hãy tạo tập huấn luyện bằng cách xóa tập kiểm tra khỏi tập dữ liệu **bamboo** và gọi tập huấn luyện **bamboo_train**."
   ]
  },
  {
   "cell_type": "code",
   "execution_count": null,
   "metadata": {
    "button": false,
    "collapsed": true,
    "id": "F129F8g4-65j",
    "jupyter": {
     "outputs_hidden": true
    },
    "new_sheet": false,
    "run_control": {
     "read_only": false
    }
   },
   "outputs": [],
   "source": [
    "bamboo_test_index = bamboo.index.isin(bamboo_test.index)\n",
    "bamboo_train = bamboo[~bamboo_test_index]\n",
    "\n",
    "bamboo_train_ingredients = bamboo_train.iloc[:,1:] # ingredients\n",
    "bamboo_train_cuisines = bamboo_train[\"cuisine\"] # corresponding cuisines or labels"
   ]
  },
  {
   "cell_type": "markdown",
   "metadata": {
    "button": false,
    "id": "vXuRLdPJ-66H",
    "new_sheet": false,
    "run_control": {
     "read_only": false
    }
   },
   "source": [
    "Kiểm tra để đảm bảo rằng hiện có _ít hơn_ 30 công thức nấu ăn cho mỗi nền ẩm thực.\n"
   ]
  },
  {
   "cell_type": "code",
   "execution_count": null,
   "metadata": {
    "button": false,
    "collapsed": false,
    "id": "zzwWo2ho-66L",
    "jupyter": {
     "outputs_hidden": false
    },
    "new_sheet": false,
    "run_control": {
     "read_only": false
    }
   },
   "outputs": [],
   "source": [
    "bamboo_train[\"cuisine\"].value_counts()"
   ]
  },
  {
   "cell_type": "markdown",
   "metadata": {
    "button": false,
    "id": "Z5WDXiXY-66R",
    "new_sheet": false,
    "run_control": {
     "read_only": false
    }
   },
   "source": [
    "Hãy xây dựng cây quyết định bằng cách sử dụng tập huấn luyện **bamboo_train**, và đặt tên cho cây được tạo là **bamboo_train_tree** để dự đoán.\n"
   ]
  },
  {
   "cell_type": "code",
   "execution_count": null,
   "metadata": {
    "id": "0aVf6Pd17Dfx"
   },
   "outputs": [],
   "source": [
    "bamboo_train_tree = tree....(max_depth=15)"
   ]
  },
  {
   "cell_type": "markdown",
   "metadata": {
    "id": "QikbFa2G7FB6"
   },
   "source": [
    "Nhấp đúp vào __đây__ để xem lời giải.\n",
    "<!-- \n",
    "DecisionTreeClassifier\n",
    "-->"
   ]
  },
  {
   "cell_type": "code",
   "execution_count": null,
   "metadata": {
    "button": false,
    "collapsed": false,
    "id": "n6Rk_bd4-66S",
    "jupyter": {
     "outputs_hidden": false
    },
    "new_sheet": false,
    "run_control": {
     "read_only": false
    }
   },
   "outputs": [],
   "source": [
    "bamboo_train_tree....(bamboo_train_ingredients, bamboo_train_cuisines)\n",
    "\n",
    "print(\"Decision tree model saved to bamboo_train_tree!\")"
   ]
  },
  {
   "cell_type": "markdown",
   "metadata": {
    "id": "lnBMUKPd7Myz"
   },
   "source": [
    "Nhấp đúp vào __đây__ để xem lời giải.\n",
    "<!-- \n",
    "fit\n",
    "-->"
   ]
  },
  {
   "cell_type": "markdown",
   "metadata": {
    "button": false,
    "id": "jAuwpMwm-66X",
    "new_sheet": false,
    "run_control": {
     "read_only": false
    }
   },
   "source": [
    "Hãy dựng cây quyết định và khám phá nó.\n"
   ]
  },
  {
   "cell_type": "code",
   "execution_count": null,
   "metadata": {
    "button": false,
    "collapsed": false,
    "id": "poRbHZFQ-66Y",
    "jupyter": {
     "outputs_hidden": false
    },
    "new_sheet": false,
    "run_control": {
     "read_only": false
    }
   },
   "outputs": [],
   "source": [
    "export_graphviz(bamboo_train_tree,\n",
    "                feature_names=list(bamboo_train_ingredients.columns.values),\n",
    "                out_file=\"bamboo_train_tree.dot\",\n",
    "                class_names=np.unique(bamboo_train_cuisines),\n",
    "                filled=True,\n",
    "                node_ids=True,\n",
    "                special_characters=True,\n",
    "                impurity=False,\n",
    "                label=\"all\",\n",
    "                leaves_parallel=False)\n",
    "\n",
    "with open(\"bamboo_train_tree.dot\") as bamboo_train_tree_image:\n",
    "    bamboo_train_tree_graph = bamboo_train_tree_image.read()\n",
    "graphviz.Source(bamboo_train_tree_graph)"
   ]
  },
  {
   "cell_type": "markdown",
   "metadata": {
    "button": false,
    "id": "yVa2qSXJ-66e",
    "new_sheet": false,
    "run_control": {
     "read_only": false
    }
   },
   "source": [
    "Bây giờ chúng ta đã xác định kỹ hơn cây của mình, tạo ra nhiều nút quyết định (decision node) hơn.\n"
   ]
  },
  {
   "cell_type": "markdown",
   "metadata": {
    "button": false,
    "id": "-2qnioOh-66f",
    "new_sheet": false,
    "run_control": {
     "read_only": false
    }
   },
   "source": [
    "#### Bây giờ, hãy kiểm tra mô hình của chúng ta trên dữ liệu thử nghiệm."
   ]
  },
  {
   "cell_type": "code",
   "execution_count": null,
   "metadata": {
    "button": false,
    "collapsed": true,
    "id": "ymbvcAKJ-66g",
    "jupyter": {
     "outputs_hidden": true
    },
    "new_sheet": false,
    "run_control": {
     "read_only": false
    }
   },
   "outputs": [],
   "source": [
    "bamboo_pred_cuisines = bamboo_train_tree....(bamboo_test_ingredients)"
   ]
  },
  {
   "cell_type": "markdown",
   "metadata": {
    "id": "-uletpcF624_"
   },
   "source": [
    "Nhấp đúp vào __đây__ để xem lời giải.\n",
    "<!-- \n",
    "predict\n",
    "-->"
   ]
  },
  {
   "cell_type": "markdown",
   "metadata": {
    "button": false,
    "id": "isCGLEBj-66k",
    "new_sheet": false,
    "run_control": {
     "read_only": false
    }
   },
   "source": [
    "Để định lượng mức độ mà cây quyết định có thể xác định chính xác từng công thức của nền ẩm thực nào, chúng ta sẽ tạo ra một ma trận nhầm lẫn (confusion matrix) trình bày một bản tóm tắt về số lượng công thức từ mỗi nền ẩm thực được phân loại chính xác. Nó cũng giúp phân biệt những nền ẩm thực nào đang bị nhầm lẫn với các nền ẩm thực khác.\n"
   ]
  },
  {
   "cell_type": "markdown",
   "metadata": {
    "button": false,
    "id": "R-D9kdEc-66m",
    "new_sheet": false,
    "run_control": {
     "read_only": false
    }
   },
   "source": [
    "Vì vậy, hãy tạo ma trận nhầm lẫn để xem cây quyết định có thể phân loại chính xác các công thức trong **bamboo_test** như thế nào.\n"
   ]
  },
  {
   "cell_type": "code",
   "execution_count": null,
   "metadata": {
    "button": false,
    "collapsed": false,
    "id": "DNc4pM3B-66p",
    "jupyter": {
     "outputs_hidden": false
    },
    "new_sheet": false,
    "run_control": {
     "read_only": false
    }
   },
   "outputs": [],
   "source": [
    "test_cuisines = np.unique(bamboo_test_cuisines)\n",
    "bamboo_confusion_matrix = confusion_matrix(bamboo_test_cuisines, bamboo_pred_cuisines, labels = test_cuisines)\n",
    "title = 'Bamboo Confusion Matrix'\n",
    "cmap = plt.cm.Blues\n",
    "\n",
    "plt.figure(figsize=(8, 6))\n",
    "bamboo_confusion_matrix = (\n",
    "    bamboo_confusion_matrix.astype('float') / bamboo_confusion_matrix.sum(axis=1)[:, np.newaxis]\n",
    "    ) * 100\n",
    "\n",
    "plt.imshow(bamboo_confusion_matrix, interpolation='nearest', cmap=cmap)\n",
    "plt.title(title)\n",
    "plt.colorbar()\n",
    "tick_marks = np.arange(len(test_cuisines))\n",
    "plt.xticks(tick_marks, test_cuisines)\n",
    "plt.yticks(tick_marks, test_cuisines)\n",
    "\n",
    "fmt = '.2f'\n",
    "thresh = bamboo_confusion_matrix.max() / 2.\n",
    "for i, j in itertools.product(range(bamboo_confusion_matrix.shape[0]), range(bamboo_confusion_matrix.shape[1])):\n",
    "    plt.text(j, i, format(bamboo_confusion_matrix[i, j], fmt),\n",
    "             horizontalalignment=\"center\",\n",
    "             color=\"white\" if bamboo_confusion_matrix[i, j] > thresh else \"black\")\n",
    "\n",
    "plt.tight_layout()\n",
    "plt.ylabel('True label')\n",
    "plt.xlabel('Predicted label')\n",
    "\n",
    "plt.show()"
   ]
  },
  {
   "cell_type": "markdown",
   "metadata": {
    "button": false,
    "id": "m13e-rsj-66u",
    "new_sheet": false,
    "run_control": {
     "read_only": false
    }
   },
   "source": [
    "Sau khi chạy đoạn code trên, bạn sẽ nhận được một ma trận nhầm lẫn tương tự như sau:\n"
   ]
  },
  {
   "cell_type": "markdown",
   "metadata": {
    "button": false,
    "id": "IJMpO5rN-66w",
    "new_sheet": false,
    "run_control": {
     "read_only": false
    }
   },
   "source": [
    "<img src=\"https://s3-api.us-geo.objectstorage.softlayer.net/cf-courses-data/CognitiveClass/DS0103EN/labs/images/lab4_fig6_confusion_matrix.png\" width=500>\n"
   ]
  },
  {
   "cell_type": "markdown",
   "metadata": {
    "button": false,
    "id": "V001rhpn-66x",
    "new_sheet": false,
    "run_control": {
     "read_only": false
    }
   },
   "source": [
    "Các hàng đại diện cho các nền ẩm thực thực tế từ tập dữ liệu và các cột đại diện cho những nền ẩm thực được dự đoán. Mỗi hàng phải tổng lại thành 100%. Theo ma trận nhầm lẫn này, chúng ta thực hiện các quan sát sau:\n",
    "\n",
    "- Sử dụng hàng đầu tiên trong ma trận nhầm lẫn, 60% công thức **Chinese** trong **bamboo_test** được phân loại chính xác theo cây quyết định trong khi 37% công thức **Chinese** bị phân loại sai thành **Korean**  và 3% bị phân loại sai thành **Indian**.\n",
    "\n",
    "- Sử dụng hàng Ấn Độ, 77% công thức **Indian** trong **bamboo_test** được phân loại chính xác theo cây quyết định và 3% công thức **Indian** bị phân loại sai thành **Chinese**, 13 % bị phân loại sai là **Korean** và 7% bị phân loại sai là ** Thái **"
   ]
  },
  {
   "cell_type": "markdown",
   "metadata": {
    "button": false,
    "id": "CbIy-bQt-66y",
    "new_sheet": false,
    "run_control": {
     "read_only": false
    }
   },
   "source": [
    "**Xin lưu ý** rằng vì cây quyết định được tạo bằng cách lấy mẫu ngẫu nhiên các điểm dữ liệu trong tập huấn luyện, do đó bạn có thể không nhận được kết quả giống nhau mỗi khi tạo cây quyết định ngay cả khi sử dụng cùng một tập huấn luyện. Tuy nhiên, hiệu suất vẫn có thể so sánh được! Vì vậy, đừng lo lắng nếu bạn nhận được những con số hơi khác trong ma trận nhầm lẫn của bạn với những con số được hiển thị ở trên."
   ]
  },
  {
   "cell_type": "markdown",
   "metadata": {
    "button": false,
    "id": "0qQALqZR-660",
    "new_sheet": false,
    "run_control": {
     "read_only": false
    }
   },
   "source": [
    "Sử dụng ma trận nhầm lẫn tham chiếu, có bao nhiêu công thức **Japanese** được phân loại chính xác bằng cây quyết định của chúng ta?\n"
   ]
  },
  {
   "cell_type": "markdown",
   "metadata": {
    "button": false,
    "id": "qui-5DBS-661",
    "new_sheet": false,
    "run_control": {
     "read_only": false
    }
   },
   "source": [
    "Đáp án của bạn:\n"
   ]
  },
  {
   "cell_type": "markdown",
   "metadata": {
    "button": false,
    "id": "_e1-oVOe-662",
    "new_sheet": false,
    "run_control": {
     "read_only": false
    }
   },
   "source": [
    "Nhấp đúp vào **đây** để xem lời giải\n",
    "\n",
    "<!-- Đáp án đúng là:\n",
    "36.67%.\n",
    "-->\n"
   ]
  },
  {
   "cell_type": "markdown",
   "metadata": {
    "button": false,
    "id": "jGJ54xXq-663",
    "new_sheet": false,
    "run_control": {
     "read_only": false
    }
   },
   "source": [
    "Cũng sử dụng ma trận nhầm lẫn tham chiếu, có bao nhiêu công thức **Korean** bị phân loại nhầm thành **Japanese**?\n"
   ]
  },
  {
   "cell_type": "markdown",
   "metadata": {
    "button": false,
    "id": "s3ElL_BV-664",
    "new_sheet": false,
    "run_control": {
     "read_only": false
    }
   },
   "source": [
    "Đáp án của bạn:\n",
    "\n"
   ]
  },
  {
   "cell_type": "markdown",
   "metadata": {
    "button": false,
    "id": "J4y0Zh4y-665",
    "new_sheet": false,
    "run_control": {
     "read_only": false
    }
   },
   "source": [
    "Nhấp đúp vào **đây** để xem lời giải\n",
    "\n",
    "<!-- Đáp án đúng là:\n",
    "3.33%.\n",
    "-->\n"
   ]
  },
  {
   "cell_type": "markdown",
   "metadata": {
    "button": false,
    "id": "x8Z6g0p2-666",
    "new_sheet": false,
    "run_control": {
     "read_only": false
    }
   },
   "source": [
    "Nền ẩm thực nào có số lượng công thức nấu ăn được phân loại đúng theo cây quyết định ít nhất bằng cách sử dụng ma trận nhầm lẫn tham chiếu?\n"
   ]
  },
  {
   "cell_type": "markdown",
   "metadata": {
    "button": false,
    "id": "Te_cq4lx-667",
    "new_sheet": false,
    "run_control": {
     "read_only": false
    }
   },
   "source": [
    "Đáp án của bạn:\n",
    "\n"
   ]
  },
  {
   "cell_type": "markdown",
   "metadata": {
    "button": false,
    "id": "WiH82jrh-668",
    "new_sheet": false,
    "run_control": {
     "read_only": false
    }
   },
   "source": [
    "Nhấp đúp vào **đây** để xem lời giải\n",
    "\n",
    "<!-- Đáp án đúng là:\n",
    "Ẩm thực Nhật, với chỉ 36.67%.\n",
    "-->\n"
   ]
  },
  {
   "cell_type": "markdown",
   "metadata": {
    "button": false,
    "id": "AOblJmHv-669",
    "new_sheet": false,
    "run_control": {
     "read_only": false
    }
   },
   "source": [
    "<br>\n",
    "<hr>\n"
   ]
  },
  {
   "cell_type": "markdown",
   "metadata": {
    "button": false,
    "id": "aiYsjVNQ-66-",
    "new_sheet": false,
    "run_control": {
     "read_only": false
    }
   },
   "source": [
    "### Cảm ơn bạn đã hoàn thành lab này!\n",
    "\n",
    "Nguồn: IBM\n"
   ]
  }
 ],
 "metadata": {
  "accelerator": "GPU",
  "colab": {
   "provenance": []
  },
  "kernelspec": {
   "display_name": "Python 3 (ipykernel)",
   "language": "python",
   "name": "python3"
  },
  "language_info": {
   "codemirror_mode": {
    "name": "ipython",
    "version": 3
   },
   "file_extension": ".py",
   "mimetype": "text/x-python",
   "name": "python",
   "nbconvert_exporter": "python",
   "pygments_lexer": "ipython3",
   "version": "3.12.2"
  }
 },
 "nbformat": 4,
 "nbformat_minor": 4
}
