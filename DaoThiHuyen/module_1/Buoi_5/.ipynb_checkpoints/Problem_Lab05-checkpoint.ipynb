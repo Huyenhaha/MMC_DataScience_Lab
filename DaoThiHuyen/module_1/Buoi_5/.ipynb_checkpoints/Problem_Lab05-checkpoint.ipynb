{
 "cells": [
  {
   "cell_type": "markdown",
   "metadata": {
    "id": "jxgT4r6ovuvd"
   },
   "source": [
    "#Bài tập 1: Thao tác với ma trận  \n",
    "**Lý thuyết**:  \n",
    "NumPy cung cấp các công cụ mạnh mẽ để thao tác ma trận, bao gồm tính toán các định thức, tìm nghịch đảo và tính toán các giá trị riêng và vectơ riêng.\n",
    "  \n",
    "**Đề bài**:  \n",
    "Tạo ma trận 5x5 ngẫu nhiên và thực hiện các thao tác sau:  \n",
    "* Tính định thức (determinant) của ma trận.  \n",
    "* Tìm nghịch đảo (transpose) của ma trận.  \n",
    "* Tính các giá trị riêng (eigent value) và vectơ riêng (eigent vector) của ma trận.   \n",
    "(Phần này sẽ liên quan tới đại số tuyến tính, mọi người có thể tự tìm hiểu để hiểu chi tiết về các khái niệm trên)\n",
    "\n",
    "<details>\n",
    "  <summary>Hint</summary>\n",
    "\n",
    "```python\n",
    "import numpy as np\n",
    "\n",
    "# Generate a random 5x5 matrix\n",
    "matrix = np.random.rand(5, 5)\n",
    "\n",
    "# Compute determinant\n",
    "det = np.linalg.det(matrix)\n",
    "\n",
    "# Find inverse\n",
    "inverse = np.linalg.inv(matrix)\n",
    "\n",
    "# Calculate eigenvalues and eigenvectors\n",
    "eigenvalues, eigenvectors = np.linalg.eig(matrix)\n",
    "\n",
    "```\n",
    "</details>"
   ]
  },
  {
   "cell_type": "code",
   "execution_count": 3,
   "metadata": {},
   "outputs": [],
   "source": [
    "import numpy as np"
   ]
  },
  {
   "cell_type": "code",
   "execution_count": 4,
   "metadata": {
    "id": "-SEd8zd9tBN8"
   },
   "outputs": [
    {
     "name": "stdout",
     "output_type": "stream",
     "text": [
      "[[0.61669165 0.98980726 0.26537532 0.71808482 0.46417683]\n",
      " [0.44484653 0.71584052 0.47728963 0.99512619 0.32476681]\n",
      " [0.23778585 0.61211075 0.69275259 0.23372698 0.58456651]\n",
      " [0.60667744 0.43096844 0.48524503 0.81027317 0.24872964]\n",
      " [0.53208565 0.08603063 0.44728474 0.97926552 0.91906547]]\n",
      "0.101005334261974\n",
      "[[0.61669165 0.44484653 0.23778585 0.60667744 0.53208565]\n",
      " [0.98980726 0.71584052 0.61211075 0.43096844 0.08603063]\n",
      " [0.26537532 0.47728963 0.69275259 0.48524503 0.44728474]\n",
      " [0.71808482 0.99512619 0.23372698 0.81027317 0.97926552]\n",
      " [0.46417683 0.32476681 0.58456651 0.24872964 0.91906547]]\n",
      "[ 2.77103616+0.j         -0.03923126+0.35203778j -0.03923126-0.35203778j\n",
      "  0.53102488+0.09232581j  0.53102488-0.09232581j]\n",
      "[[ 0.49962485+0.j         -0.60058559+0.j         -0.60058559-0.j\n",
      "   0.50143041+0.01910508j  0.50143041-0.01910508j]\n",
      " [ 0.46817986+0.j          0.1143362 -0.33493736j  0.1143362 +0.33493736j\n",
      "   0.12958234+0.12655204j  0.12958234-0.12655204j]\n",
      " [ 0.37404399+0.j         -0.30656631+0.29003317j -0.30656631-0.29003317j\n",
      "  -0.74889339+0.j         -0.74889339-0.j        ]\n",
      " [ 0.40998854+0.j          0.38908277+0.25278233j  0.38908277-0.25278233j\n",
      "   0.1638405 +0.07402249j  0.1638405 -0.07402249j]\n",
      " [ 0.47242261+0.j          0.17822464-0.29814539j  0.17822464+0.29814539j\n",
      "  -0.19797393-0.2881623j  -0.19797393+0.2881623j ]]\n"
     ]
    }
   ],
   "source": [
    "# Your code here\n",
    "a = np.random.rand(5,5)\n",
    "det = np.linalg.det(a)\n",
    "inver = a.T\n",
    "eigenvalues, eigenvectors = np.linalg.eig(a)\n",
    "print(a)\n",
    "print(det)\n",
    "print(inver)\n",
    "print(eigenvalues)\n",
    "print(eigenvectors)"
   ]
  },
  {
   "cell_type": "markdown",
   "metadata": {
    "id": "j5y16Eqkxd_o"
   },
   "source": [
    "# Bài tập 2: Optimization\n",
    "**Lý thuyết:**  \n",
    "Gradient descent là một thuật toán tối ưu hóa được sử dụng để cực tiểu hóa hàm bằng cách di chuyển lặp đi lặp lại theo hướng dốc xuống.\n",
    "\n",
    "**Đề bài:**  \n",
    "Triển khai gradient descent sử dụng NumPy để tối ưu hàm số sau:\n",
    " $$ f(x) = x^2 + 5 \\sin(x) $$\n",
    "<details>\n",
    "  <summary>Hint</summary>\n",
    "\n",
    "```python\n",
    "import numpy as np\n",
    "\n",
    "def gradient_descent(x, learning_rate, iterations):\n",
    "    for _ in range(iterations):\n",
    "        gradient = 2*x + 5*np.cos(x)  # Đạo hàm riêng theo x\n",
    "        x = x - learning_rate * gradient # Cập nhật tham số\n",
    "    return x\n",
    "\n",
    "# Khởi tạo các hyperparameters\n",
    "x_initial = 5  # Input đầu vào\n",
    "learning_rate = 0.1 # Tốc độ học\n",
    "iterations = 100 # Số lần lặp\n",
    "\n",
    "# Run gradient descent\n",
    "minima = gradient_descent(x_initial, learning_rate, iterations)\n",
    "```\n",
    "\n",
    "</details>"
   ]
  },
  {
   "cell_type": "code",
   "execution_count": 5,
   "metadata": {
    "id": "s3Q3kOnuwxxW"
   },
   "outputs": [
    {
     "data": {
      "text/plain": [
       "-1.110510503581112"
      ]
     },
     "execution_count": 5,
     "metadata": {},
     "output_type": "execute_result"
    }
   ],
   "source": [
    "# Your code here\\\n",
    "def optimization(x, rate, lap):\n",
    "    for i in range(lap):\n",
    "        x -= rate * (2*x + 5 * np.cos(x))\n",
    "    return x\n",
    "\n",
    "x = 5\n",
    "rate = 0.1\n",
    "lap = 100\n",
    "\n",
    "res = optimization(x,rate,lap)\n",
    "res\n",
    "    \n",
    "    \n",
    "    "
   ]
  },
  {
   "cell_type": "markdown",
   "metadata": {
    "id": "r9TwMgo-y5tm"
   },
   "source": [
    "# Bài tập 3: Phân tích thống kê  \n",
    "**Lý thuyết**:  \n",
    "NumPy cung cấp các chức năng để phân tích thống kê, bao gồm tính toán giá trị trung bình (mean), trung vị (median), độ lệch chuẩn (standard deviation) và mối tương quan (correlation).  \n",
    "\n",
    "**Đề Bài**:  \n",
    "Thực hiện phân tích thống kê trên tập dữ liệu bai3.csv bằng NumPy:  \n",
    "* Tính giá trị trung bình, trung vị và độ lệch chuẩn của tập dữ liệu.\n",
    "* Tính toán ma trận tương quan giữa các biến khác nhau.\n",
    "* Xác định các ngoại lệ trong tập dữ liệu bằng cách sử dụng điểm z.\n",
    "\n",
    "<details>\n",
    "  <summary>Hint</summary>\n",
    "\n",
    "```python\n",
    "  # Load dataset\n",
    "  data = np.loadtxt('dataset.csv', delimiter=',')\n",
    "\n",
    "  # Calculate mean, median, and standard deviation\n",
    "  mean = np.mean(data, axis=0)\n",
    "  median = np.median(data, axis=0)\n",
    "  std_dev = np.std(data, axis=0)\n",
    "\n",
    "  # Compute correlation matrix\n",
    "  correlation_matrix = np.corrcoef(data, rowvar=False)\n",
    "\n",
    "  # Identify outliers using z-scores\n",
    "  z_scores = np.abs((data - mean) / std_dev)\n",
    "  outliers = np.where(z_scores > 3)\n",
    "```\n",
    "</details>"
   ]
  },
  {
   "cell_type": "code",
   "execution_count": 6,
   "metadata": {
    "id": "KjYxequp1pld"
   },
   "outputs": [
    {
     "name": "stdout",
     "output_type": "stream",
     "text": [
      "[[1.2 3.5 4.8 2.1 5.6]\n",
      " [2.5 4.3 6.7 3.2 7.1]\n",
      " [3.1 2.9 5.4 1.8 6.3]\n",
      " [4.7 3.8 7.2 2.6 8.4]\n",
      " [5.6 4.6 8.3 3.9 9.2]]\n",
      "[3.42 3.82 6.48 2.72 7.32]\n",
      "[3.1 3.8 6.7 2.6 7.1]\n",
      "[1.56639714 0.59799666 1.25443214 0.75736385 1.32272446]\n",
      "[[1.         0.47784764 0.89183434 0.61500461 0.94868903]\n",
      " [0.47784764 1.         0.81104187 0.97063145 0.71505798]\n",
      " [0.89183434 0.81104187 1.         0.88457426 0.98139657]\n",
      " [0.61500461 0.97063145 0.88457426 1.         0.79617986]\n",
      " [0.94868903 0.71505798 0.98139657 0.79617986 1.        ]]\n",
      "(array([], dtype=int64), array([], dtype=int64))\n"
     ]
    }
   ],
   "source": [
    "# Your code here\n",
    "with open('bai3.csv','r') as file1:\n",
    "    a = file1.readline()\n",
    "    lst = []\n",
    "    for line in file1:\n",
    "        lst.append(list(map(float,line.split(','))))\n",
    "    data = np.array(lst)\n",
    "    print(data)\n",
    "#1\n",
    "    mean = np.mean(data, axis=0)\n",
    "    std_dev = np.std(data, axis = 0)\n",
    "    print(mean)\n",
    "    print(np.median(data,axis = 0))\n",
    "    print(std_dev)\n",
    "#2\n",
    "    correlation_matrix = np.corrcoef(data, rowvar=False)\n",
    "    print(correlation_matrix)\n",
    "#3\n",
    "    z_scores = np.abs((data - mean) / std_dev)\n",
    "    outliers = np.where(z_scores > 3)\n",
    "    print(outliers)\n",
    "    "
   ]
  },
  {
   "cell_type": "markdown",
   "metadata": {
    "id": "ZX1eKlF805bM"
   },
   "source": [
    "# Bài 4: Thao tác với tensor\n",
    "Đề cho một tensor đại diện cho một hình ảnh thang độ xám. Thực hiện các thao tác sau:\n",
    "\n",
    "1. Reshape: Reshape tensor thành một hình dạng khác trong khi vẫn đảm bảo tổng số phần tử không đổi.\n",
    "2. Transpose: Transpose tensor dọc theo các trục được chỉ định.\n",
    "3. Slice: Trích xuất một tập hợp con của tensor bằng cách cắt dọc theo các kích thước được chỉ định.\n",
    "4. Concatenate: Concatenate nhiều tensor dọc theo các trục được chỉ định.\n",
    "5. Các phép toán theo phần tử: Thực hiện các phép toán theo phần tử như cộng, trừ, nhân và chia với các giá trị vô hướng hoặc các tensor khác.\n",
    "6. Hoạt động rút gọn: Thực hiện các hoạt động rút gọn như tính tổng, trung bình, tối thiểu và tối đa dọc theo các trục được chỉ định.\n",
    "7. Indexing: Truy cập các phần tử riêng lẻ hoặc các tensor phụ bằng cách sử dụng các chỉ số nguyên hoặc boolean mark.\n",
    "\n",
    "<details>\n",
    "  <summary>Hint</summary>\n",
    "\n",
    "  ```python\n",
    "    # 1. Reshape the tensor\n",
    "    reshaped_tensor = image_tensor.reshape(1, 9)\n",
    "\n",
    "    # 2. Transpose the tensor\n",
    "    transposed_tensor = image_tensor.T\n",
    "\n",
    "    # 3. Slice the tensor\n",
    "    sliced_tensor = image_tensor[:2, :2]\n",
    "\n",
    "    # 4. Concatenate tensors\n",
    "    concatenated_tensor = np.concatenate((image_tensor, image_tensor), axis=0)\n",
    "\n",
    "    # 5. Element-wise operations\n",
    "    added_tensor = image_tensor + 0.1\n",
    "    multiplied_tensor = image_tensor * 2\n",
    "\n",
    "    # 6. Reduction operations\n",
    "    sum_tensor = np.sum(image_tensor)\n",
    "    mean_tensor = np.mean(image_tensor, axis=0)\n",
    "    max_tensor = np.max(image_tensor, axis=1)\n",
    "\n",
    "    # 7. Indexing\n",
    "    element = image_tensor[1, 2]\n",
    "  ```\n",
    "</details>"
   ]
  },
  {
   "cell_type": "code",
   "execution_count": 7,
   "metadata": {
    "id": "sKx_zUMw041d"
   },
   "outputs": [],
   "source": [
    "image_tensor = np.array([\n",
    "    [0.1, 0.2, 0.3],\n",
    "    [0.4, 0.5, 0.6],\n",
    "    [0.7, 0.8, 0.9]\n",
    "])"
   ]
  },
  {
   "cell_type": "code",
   "execution_count": 26,
   "metadata": {
    "id": "aDy3tPzby5RN"
   },
   "outputs": [
    {
     "name": "stdout",
     "output_type": "stream",
     "text": [
      "câu 1 :\n",
      "[[0.1 0.2 0.3 0.4 0.5 0.6 0.7 0.8 0.9]]\n",
      "câu 2 :\n",
      "[[0.1 0.4 0.7]\n",
      " [0.2 0.5 0.8]\n",
      " [0.3 0.6 0.9]]\n",
      "câu 3 :\n",
      "[0.3 0.6 0.9]\n",
      "câu 4 :\n",
      "[[0.1 0.2 0.3 0.1 0.2 0.3]\n",
      " [0.4 0.5 0.6 0.4 0.5 0.6]\n",
      " [0.7 0.8 0.9 0.7 0.8 0.9]]\n",
      "câu 5 :\n",
      "[[1.1 1.2 1.3]\n",
      " [1.4 1.5 1.6]\n",
      " [1.7 1.8 1.9]] \n",
      "\n",
      " [[-1.9 -1.8 -1.7]\n",
      " [-1.6 -1.5 -1.4]\n",
      " [-1.3 -1.2 -1.1]] \n",
      "\n",
      " [[0.3 0.6 0.9]\n",
      " [1.2 1.5 1.8]\n",
      " [2.1 2.4 2.7]] \n",
      "\n",
      " [[0.025 0.05  0.075]\n",
      " [0.1   0.125 0.15 ]\n",
      " [0.175 0.2   0.225]]\n",
      "câu 6 : \n",
      "tổng theo trục dọc là : [1.2 1.5 1.8]\n",
      "trung bình theo trục ngang là : [0.2 0.5 0.8]\n",
      "giá trị max theo cột là : [0.7 0.8 0.9]\n",
      "giá trị min theo hàng là : [0.1 0.4 0.7]\n",
      "câu 7: \n",
      "0.1\n"
     ]
    }
   ],
   "source": [
    "# your code here\n",
    "#1.\n",
    "print('câu 1 :')\n",
    "image_tensor_shape = image_tensor.reshape(1,9)\n",
    "print(image_tensor_shape)\n",
    "\n",
    "#2.\n",
    "print('câu 2 :')\n",
    "print(np.transpose(image_tensor, (1,0)))\n",
    "\n",
    "#3\n",
    "print('câu 3 :')\n",
    "print(image_tensor[:,2])\n",
    "\n",
    "#4\n",
    "print('câu 4 :')\n",
    "a = np.array([0.1,1.2,2.3])\n",
    "print(np.concatenate((image_tensor,image_tensor), axis = 1))\n",
    "\n",
    "#5 \n",
    "print('câu 5 :')\n",
    "cong = image_tensor + 1\n",
    "tru = image_tensor - 2\n",
    "tich = image_tensor*3\n",
    "chia = image_tensor/4\n",
    "print(cong, '\\n\\n', tru, '\\n\\n', tich, '\\n\\n', chia)\n",
    "\n",
    "#6\n",
    "print('câu 6 : ')\n",
    "tong = np.sum(image_tensor,axis = 0)\n",
    "trung_binh = np.mean(image_tensor, axis = 1)\n",
    "lon_nhat = np.max(image_tensor, axis = 0)\n",
    "nho_nhat = np.min(image_tensor,axis = 1)\n",
    "print('tổng theo trục dọc là :', tong)\n",
    "print('trung bình theo trục ngang là :',trung_binh)\n",
    "print('giá trị max theo cột là :',lon_nhat)\n",
    "print('giá trị min theo hàng là :',nho_nhat)\n",
    "\n",
    "#7\n",
    "print('câu 7: ')\n",
    "print(image_tensor[0,0])"
   ]
  }
 ],
 "metadata": {
  "colab": {
   "provenance": []
  },
  "kernelspec": {
   "display_name": "Python 3 (ipykernel)",
   "language": "python",
   "name": "python3"
  },
  "language_info": {
   "codemirror_mode": {
    "name": "ipython",
    "version": 3
   },
   "file_extension": ".py",
   "mimetype": "text/x-python",
   "name": "python",
   "nbconvert_exporter": "python",
   "pygments_lexer": "ipython3",
   "version": "3.12.2"
  }
 },
 "nbformat": 4,
 "nbformat_minor": 4
}
