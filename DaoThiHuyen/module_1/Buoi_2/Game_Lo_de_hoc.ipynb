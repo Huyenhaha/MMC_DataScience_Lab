{
 "cells": [
  {
   "cell_type": "code",
   "execution_count": 1,
   "id": "cec4d18d-fc61-44a2-b8ae-12a4019204cd",
   "metadata": {},
   "outputs": [],
   "source": [
    "import random\n",
    "from IPython.display import clear_output\n",
    "tong_tien = 1000000"
   ]
  },
  {
   "cell_type": "code",
   "execution_count": 2,
   "id": "17c07755-2d01-4187-bd94-f83704c608c1",
   "metadata": {},
   "outputs": [],
   "source": [
    "def menu():\n",
    "    print('Game LÔ ĐỀ HỌC')\n",
    "    print('1. Chơi lô')\n",
    "    print('2. Nạp tiền')\n",
    "    print('3. Thoát game')"
   ]
  },
  {
   "cell_type": "code",
   "execution_count": 3,
   "id": "a986a119-da20-4292-b9c1-889387c5eec6",
   "metadata": {},
   "outputs": [],
   "source": [
    "def choi_lo():\n",
    "    while True:\n",
    "        tien_cuoc = input('bạn cược bao nhiêu tiền')\n",
    "        if(tien_cuoc.isdigit() and int(tien_cuoc) <= tong_tien):\n",
    "            tien_cuoc = int(tien_cuoc)\n",
    "            break\n",
    "        else:\n",
    "            print('nhập sai định dạng, hãy nhập lại')\n",
    "\n",
    "    while True:\n",
    "        so_lo = input('hãy nhập số lô bạn muốn cược(10-99) :')\n",
    "        if(so_lo.isdigit() and 10 <= int(so_lo) <= 99):\n",
    "            so_lo = int(so_lo)\n",
    "            break\n",
    "        else:\n",
    "            print('nhập sai định dạng, hãy nhập lại')\n",
    "\n",
    "    return tien_cuoc, so_lo"
   ]
  },
  {
   "cell_type": "code",
   "execution_count": 4,
   "id": "ea9b0a2e-122f-4571-be53-1ef0d02ebf10",
   "metadata": {},
   "outputs": [],
   "source": [
    "def quay_so():\n",
    "    GIAI_NHAT = random.randint(10,99)\n",
    "    GIAI_NHI = random.randint(10,99)\n",
    "    GIAI_BA = random.randint(10,99)\n",
    "    GIAI_TU = random.randint(10,99)\n",
    "    GIAI_NAM = random.randint(10,99)\n",
    "    GIAI_SAU = random.randint(10,99)\n",
    "    GIAI_BAY = random.randint(10,99)\n",
    "    \n",
    "    danh_sach_giai = [GIAI_NHAT, GIAI_NHI, GIAI_BA, GIAI_TU, GIAI_NAM, GIAI_SAU, GIAI_BAY]\n",
    "    print('-' * 20)\n",
    "    print('---DANH SÁCH GIẢI---')\n",
    "    giai = 1\n",
    "    for x in danh_sach_giai:\n",
    "        print(f'giai {giai}: {x}')\n",
    "        giai += 1\n",
    "    print('-' * 20)\n",
    "    return danh_sach_giai"
   ]
  },
  {
   "cell_type": "code",
   "execution_count": 13,
   "id": "33fb2a83-0458-4326-aa13-bcb7c8beb8bc",
   "metadata": {},
   "outputs": [],
   "source": [
    "def kiem_tra_giai(tien_cuoc, so_lo):\n",
    "        global tong_tien\n",
    "        ds_giai = quay_so()\n",
    "        trung_lo = 0\n",
    "        for x in ds_giai:\n",
    "            if(so_lo == x):\n",
    "                trung_lo += 1\n",
    "                tong_tien += tien_cuoc*70\n",
    "                \n",
    "        if trung_lo != 0:\n",
    "            print(f'bạn đã trúng {trung_lo} lô')\n",
    "            print(f'tổng số tiền bạn trúng là: {tien_cuoc *trung_lo * 70}')\n",
    "            print(f'tổng số tiền hiện tại của bạn : {tong_tien}')\n",
    "        else:\n",
    "            print('bạn đã thua lô!')\n",
    "            tong_tien -= tien_cuoc\n",
    "            print(f'số tiền hiện tại của bạn {tong_tien}')"
   ]
  },
  {
   "cell_type": "code",
   "execution_count": 18,
   "id": "2b0b80d1-e767-41b8-a1bb-dc39f88005a9",
   "metadata": {},
   "outputs": [],
   "source": [
    "def nap_tien():\n",
    "    global tong_tien\n",
    "    while True:\n",
    "        tien_nap = input('nhập số tiền bạn muốn nạp: ')\n",
    "        if(tien_nap.isdigit()):\n",
    "            tong_tien += int(tien_nap)\n",
    "            print(f'tổng số tiền sau khi nạp : {tong_tien}')\n",
    "        else:\n",
    "            print('nhập sai định dạng, hãy nhập lại')\n",
    "        tiep_tuc = int(input('bạn có muốn nạp tiếp không ? 1: Yes, 0: No'))\n",
    "        if(tiep_tuc == 0):\n",
    "            break"
   ]
  },
  {
   "cell_type": "code",
   "execution_count": null,
   "id": "11365bdf-eb8f-4c53-b593-f20553f8a1b8",
   "metadata": {},
   "outputs": [],
   "source": []
  },
  {
   "cell_type": "code",
   "execution_count": 25,
   "id": "f1fda3b4-8d57-4b30-bf73-ccb4551545b4",
   "metadata": {},
   "outputs": [],
   "source": [
    "def main():\n",
    "        menu()\n",
    "        while True:\n",
    "            clear_output(wait = True)\n",
    "            lua_chon = input('hãy nhập số bạn chọn: ')\n",
    "            if(lua_chon.isdigit() and 1 <= int(lua_chon) <= 3):\n",
    "                lua_chon = int(lua_chon)\n",
    "                if(lua_chon == 1):\n",
    "                    clear_output(wait = True)\n",
    "                    tien_cuoc, so_lo = choi_lo()\n",
    "                    kiem_tra_giai(tien_cuoc, so_lo)\n",
    "                    tiep_tuc = int(input('bạn có muốn chơi nữa không? 1: Yes, 0: No :'))\n",
    "                    if(tiep_tuc == 0):\n",
    "                        clear_output(wait = True)\n",
    "                        break\n",
    "                    clear_output(wait = True)\n",
    "                    menu()\n",
    "                if(lua_chon == 2):\n",
    "                    nap_tien()\n",
    "                    clear_output(wait = True)\n",
    "                    menu()\n",
    "                if(lua_chon == 3):\n",
    "                    clear_output()\n",
    "                    break\n",
    "            else:\n",
    "                print('nhập sai định dạng, hãy nhập lại:')\n",
    "                menu()\n",
    "        \n",
    "        print('tạm biệt, quay lại sớm nhé ^-^')\n",
    "        \n",
    "        \n",
    "        "
   ]
  },
  {
   "cell_type": "code",
   "execution_count": 26,
   "id": "cd2128a4-1486-4795-b854-f6e08d62f243",
   "metadata": {},
   "outputs": [
    {
     "name": "stdout",
     "output_type": "stream",
     "text": [
      "tạm biệt, quay lại sớm nhé ^-^\n"
     ]
    }
   ],
   "source": [
    "main()"
   ]
  },
  {
   "cell_type": "code",
   "execution_count": null,
   "id": "55fadd90-0b3a-457d-8a42-b5747d772bd1",
   "metadata": {},
   "outputs": [],
   "source": []
  },
  {
   "cell_type": "code",
   "execution_count": null,
   "id": "d2dfeffa-562c-4d78-9060-9b15945294c0",
   "metadata": {},
   "outputs": [],
   "source": []
  },
  {
   "cell_type": "code",
   "execution_count": null,
   "id": "bceb7b1e-5f7e-4522-8359-259c39c58024",
   "metadata": {},
   "outputs": [],
   "source": []
  }
 ],
 "metadata": {
  "kernelspec": {
   "display_name": "Python 3 (ipykernel)",
   "language": "python",
   "name": "python3"
  },
  "language_info": {
   "codemirror_mode": {
    "name": "ipython",
    "version": 3
   },
   "file_extension": ".py",
   "mimetype": "text/x-python",
   "name": "python",
   "nbconvert_exporter": "python",
   "pygments_lexer": "ipython3",
   "version": "3.12.2"
  }
 },
 "nbformat": 4,
 "nbformat_minor": 5
}
