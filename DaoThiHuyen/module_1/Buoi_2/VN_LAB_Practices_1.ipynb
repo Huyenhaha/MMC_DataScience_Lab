{
 "cells": [
  {
   "cell_type": "markdown",
   "id": "564254a6-e646-42d1-b775-0604b8856eac",
   "metadata": {},
   "source": [
    "# Exercise 1:"
   ]
  },
  {
   "cell_type": "code",
   "execution_count": 4,
   "id": "251a8956-3da1-4ffd-8b1e-ddebd5d71732",
   "metadata": {},
   "outputs": [
    {
     "name": "stdout",
     "output_type": "stream",
     "text": [
      "1.18\n",
      "0.10\n"
     ]
    }
   ],
   "source": [
    "#Câu 1:\n",
    "def convert(so):\n",
    "    inch = so/2.54\n",
    "    foot = inch/12\n",
    "    print(f'{inch:.2f}')\n",
    "    print(f'{foot:.2f}')\n",
    "\n",
    "convert(3)"
   ]
  },
  {
   "cell_type": "code",
   "execution_count": 7,
   "id": "f46009e5-906a-4805-8a4d-16415b8e4165",
   "metadata": {},
   "outputs": [
    {
     "name": "stdout",
     "output_type": "stream",
     "text": [
      "01 : 01 : 00\n"
     ]
    }
   ],
   "source": [
    "#câu 2:\n",
    "def time(s):\n",
    "    h = s // 3600\n",
    "    p = (s - h*3600)//60\n",
    "    s = s - h*3600 - p*60\n",
    "    print(f'{h:02d} : {p:02d} : {s:02d}')\n",
    "\n",
    "time(3660)"
   ]
  },
  {
   "cell_type": "code",
   "execution_count": 10,
   "id": "99fd3afa-e85c-4d73-903a-ae44d3a0ed19",
   "metadata": {},
   "outputs": [
    {
     "name": "stdout",
     "output_type": "stream",
     "text": [
      "4\n",
      "1\n"
     ]
    }
   ],
   "source": [
    "#câu 3:\n",
    "def tim_max_min(a,b,c,d):\n",
    "    x = max(a,b,c,d)\n",
    "    y = min(a,b,c,d)\n",
    "    print(x)\n",
    "    print(y)\n",
    "\n",
    "tim_max_min(1,3,2,4)"
   ]
  },
  {
   "cell_type": "code",
   "execution_count": 12,
   "id": "6481a0eb-d90a-46d0-ac28-8b75797ea54d",
   "metadata": {},
   "outputs": [
    {
     "name": "stdout",
     "output_type": "stream",
     "text": [
      "Số thứ nhất nhỏ hơn số thứ hai\n"
     ]
    }
   ],
   "source": [
    "#câu 4:\n",
    "def hieu(a,b):\n",
    "    c = a-b\n",
    "    if(c > 0):\n",
    "        print('Số thứ nhất lớn hơn số thứ hai')\n",
    "    elif(c < 0):\n",
    "        print('Số thứ nhất nhỏ hơn số thứ hai')\n",
    "\n",
    "hieu(3,4)"
   ]
  },
  {
   "cell_type": "code",
   "execution_count": 13,
   "id": "43982ebd-72e2-4354-b222-f9f3c924675b",
   "metadata": {},
   "outputs": [
    {
     "data": {
      "text/plain": [
       "True"
      ]
     },
     "execution_count": 13,
     "metadata": {},
     "output_type": "execute_result"
    }
   ],
   "source": [
    "#câu 5:\n",
    "def chia_het(a,b):\n",
    "    if(a % b == 0):\n",
    "        return True\n",
    "    else:\n",
    "        return False\n",
    "\n",
    "chia_het(6,3)"
   ]
  },
  {
   "cell_type": "code",
   "execution_count": 18,
   "id": "0a8accf0-dba9-4a97-a724-bb0bc06a4f8d",
   "metadata": {},
   "outputs": [
    {
     "name": "stdin",
     "output_type": "stream",
     "text": [
      "nhập điểm môn toán 8.6\n",
      "nhập điểm môn lý 7\n",
      "nhập điểm môn hóa 6\n"
     ]
    },
    {
     "name": "stdout",
     "output_type": "stream",
     "text": [
      "7.55\n",
      "Khá\n"
     ]
    }
   ],
   "source": [
    "#Câu 6:\n",
    "def xep_loai(d):\n",
    "    if(d >= 9):\n",
    "        print('Xuất sắc')\n",
    "    elif( 8 <= d <= 9):\n",
    "        print('Giỏi')\n",
    "    elif(7 <= d <= 8):\n",
    "        print('Khá')\n",
    "    elif(6 <= d <= 7):\n",
    "        print('Trung bình khá')\n",
    "    elif(5 <= d <= 6):\n",
    "        print('Trung bình')\n",
    "    else:\n",
    "        print('Kém')\n",
    "\n",
    "a = float(input('nhập điểm môn toán'))\n",
    "b = float(input('nhập điểm môn lý'))\n",
    "c = float(input('nhập điểm môn hóa'))\n",
    "\n",
    "d_tb = (a*2 + b + c)/4\n",
    "print(d_tb)\n",
    "xep_loai(d_tb)"
   ]
  },
  {
   "cell_type": "markdown",
   "id": "85ba2f02-6e1b-4c34-b01b-e591d76346d8",
   "metadata": {},
   "source": [
    "# Exercise 2:"
   ]
  },
  {
   "cell_type": "code",
   "execution_count": 37,
   "id": "5412edc5-c984-4b21-9104-a22969a11158",
   "metadata": {},
   "outputs": [
    {
     "name": "stdin",
     "output_type": "stream",
     "text": [
      " 13452\n"
     ]
    },
    {
     "name": "stdout",
     "output_type": "stream",
     "text": [
      "15\n"
     ]
    }
   ],
   "source": [
    "#câu 1:\n",
    "n = input()\n",
    "sum = 0\n",
    "for x in n:\n",
    "    sum += int(x)\n",
    "\n",
    "print(sum)"
   ]
  },
  {
   "cell_type": "code",
   "execution_count": 36,
   "id": "c8d3f594-4799-49bf-9cc2-8f5a894f23f2",
   "metadata": {},
   "outputs": [
    {
     "name": "stdout",
     "output_type": "stream",
     "text": [
      "[2, 2, 7.0]\n"
     ]
    }
   ],
   "source": [
    "#câu 2:\n",
    "def pt_snt(a):\n",
    "    lst = []\n",
    "    for x in range(2, int(a**0.5)):\n",
    "        if(a%x == 0):\n",
    "            while(a%x == 0):\n",
    "                lst.append(x)\n",
    "                a /= x\n",
    "    if(a > 1):\n",
    "        lst.append(a)\n",
    "    print(lst)\n",
    "\n",
    "pt_snt(28)"
   ]
  },
  {
   "cell_type": "code",
   "execution_count": 40,
   "id": "bb90fa56-eb95-4c62-aeec-0c298aae856f",
   "metadata": {},
   "outputs": [
    {
     "name": "stdin",
     "output_type": "stream",
     "text": [
      " 988\n"
     ]
    },
    {
     "name": "stdout",
     "output_type": "stream",
     "text": [
      "[2, 3, 5, 7, 11, 13, 17, 19, 23, 29, 31, 37, 41, 43, 47, 53, 59, 61, 67, 71, 73, 79, 83, 89, 97, 101, 103, 107, 109, 113, 127, 131, 137, 139, 149, 151, 157, 163, 167, 173, 179, 181, 191, 193, 197, 199, 211, 223, 227, 229, 233, 239, 241, 251, 257, 263, 269, 271, 277, 281, 283, 293, 307, 311, 313, 317, 331, 337, 347, 349, 353, 359, 367, 373, 379, 383, 389, 397, 401, 409, 419, 421, 431, 433, 439, 443, 449, 457, 461, 463, 467, 479, 487, 491, 499, 503, 509, 521, 523, 541, 547, 557, 563, 569, 571, 577, 587, 593, 599, 601, 607, 613, 617, 619, 631, 641, 643, 647, 653, 659, 661, 673, 677, 683, 691, 701, 709, 719, 727, 733, 739, 743, 751, 757, 761, 769, 773, 787, 797, 809, 811, 821, 823, 827, 829, 839, 853, 857, 859, 863, 877, 881, 883, 887, 907, 911, 919, 929, 937, 941, 947, 953, 961, 967, 971, 977, 983]\n"
     ]
    }
   ],
   "source": [
    "#câu 3:\n",
    "def snt(n):\n",
    "    lst_snt = []\n",
    "    lst = [1]*n\n",
    "    lst[0] = 0\n",
    "    lst[1] = 0\n",
    "    for i in range(2, int(n**0.5)):\n",
    "        if(lst[i] == 1):\n",
    "            for j in range(i*i,n,i):\n",
    "                lst[j] = 0\n",
    "    \n",
    "    for i in range(len(lst)):\n",
    "        if(lst[i] != 0):\n",
    "            lst_snt.append(i)\n",
    "    return lst_snt\n",
    "\n",
    "n = int(input())\n",
    "print(snt(n))"
   ]
  },
  {
   "cell_type": "code",
   "execution_count": 2,
   "id": "e396fa0f-8b1b-409e-8b37-6d94ccc466d8",
   "metadata": {},
   "outputs": [
    {
     "name": "stdin",
     "output_type": "stream",
     "text": [
      " 5\n"
     ]
    },
    {
     "name": "stdout",
     "output_type": "stream",
     "text": [
      "2\n",
      "3\n",
      "5\n",
      "7\n",
      "11\n"
     ]
    }
   ],
   "source": [
    "#câu 4:\n",
    "def check_snt(x):\n",
    "    for i in range(2,int(x**0.5) + 1):\n",
    "        if(x%i == 0):\n",
    "            return 0\n",
    "    return x > 1\n",
    "\n",
    "n = int(input())\n",
    "i = 2\n",
    "while(n):\n",
    "    if(check_snt(i) != 0):\n",
    "        print(i)\n",
    "        n -= 1\n",
    "    i += 1"
   ]
  },
  {
   "cell_type": "code",
   "execution_count": 41,
   "id": "e45643db-47fd-4061-8466-ca1c82d6371c",
   "metadata": {},
   "outputs": [
    {
     "name": "stdin",
     "output_type": "stream",
     "text": [
      " 900\n"
     ]
    },
    {
     "name": "stdout",
     "output_type": "stream",
     "text": [
      "2\n",
      "3\n",
      "5\n",
      "13\n",
      "89\n",
      "233\n"
     ]
    }
   ],
   "source": [
    "#câu 7:\n",
    "f0 = 0\n",
    "f1 = 1\n",
    "fres = f1+f0\n",
    "n = int(input())\n",
    "list_snt = snt(n)\n",
    "while(fres < n):\n",
    "    if(fres in list_snt):\n",
    "        print(fres)\n",
    "    f0 = f1\n",
    "    f1 = fres\n",
    "    fres = f0 + f1\n"
   ]
  },
  {
   "cell_type": "code",
   "execution_count": 33,
   "id": "fca01522-9faf-45a7-9065-32ed01fc5063",
   "metadata": {},
   "outputs": [
    {
     "name": "stdin",
     "output_type": "stream",
     "text": [
      " 6\n",
      " 3\n"
     ]
    },
    {
     "name": "stdout",
     "output_type": "stream",
     "text": [
      "3\n",
      "6.0\n"
     ]
    }
   ],
   "source": [
    "#câu 5:\n",
    "def ucln(a,b):\n",
    "    if(b == 0):\n",
    "        return a\n",
    "    else:\n",
    "        return ucln(b,a%b)\n",
    "\n",
    "x = int(input())\n",
    "y = int(input())\n",
    "uc = ucln(x,y)\n",
    "bcnn = (x*y)/uc\n",
    "print(uc)\n",
    "print(bcnn)"
   ]
  },
  {
   "cell_type": "code",
   "execution_count": 35,
   "id": "fa4b520c-20f1-4ed4-bd1f-cff430044730",
   "metadata": {},
   "outputs": [
    {
     "name": "stdin",
     "output_type": "stream",
     "text": [
      " 4\n"
     ]
    },
    {
     "name": "stdout",
     "output_type": "stream",
     "text": [
      "2\n"
     ]
    }
   ],
   "source": [
    "#câu 6:\n",
    "f_t1 = 0\n",
    "f_t2 = 1\n",
    "n = int(input())\n",
    "while(n > 2):\n",
    "    f_res = f_t2 + f_t1\n",
    "    f_t1 = f_t2\n",
    "    f_t2 = f_res\n",
    "    n -= 1\n",
    "\n",
    "print(f_t2)"
   ]
  },
  {
   "cell_type": "code",
   "execution_count": 42,
   "id": "ef920572-d031-4b67-bb2b-099bbd050760",
   "metadata": {},
   "outputs": [
    {
     "name": "stdin",
     "output_type": "stream",
     "text": [
      " 1234\n"
     ]
    },
    {
     "name": "stdout",
     "output_type": "stream",
     "text": [
      "10\n",
      "[2, 617.0]\n"
     ]
    }
   ],
   "source": [
    "#câu 8:\n",
    "n = input()\n",
    "def tong_cs(n):\n",
    "    sum = 0\n",
    "    for x in n:\n",
    "        sum += int(x)\n",
    "    return sum\n",
    "\n",
    "print(tong_cs(n))\n",
    "pt_snt(int(n))\n"
   ]
  },
  {
   "cell_type": "code",
   "execution_count": 6,
   "id": "90dfbbf7-e5e0-4f28-823b-e575e5d06d76",
   "metadata": {},
   "outputs": [
    {
     "name": "stdin",
     "output_type": "stream",
     "text": [
      " 16\n"
     ]
    },
    {
     "name": "stdout",
     "output_type": "stream",
     "text": [
      "số lượng ước của n là :  5\n",
      "[1, 16, 2, 8, 4]\n",
      "Ước nguyên tố của n là:  1 2 "
     ]
    }
   ],
   "source": [
    "#câu 9:\n",
    "\n",
    "def check_snt(x):\n",
    "    for i in range(2,int(x**0.5) + 1):\n",
    "        if(x%i == 0):\n",
    "            return 0\n",
    "    return 1\n",
    "\n",
    "n = int(input())\n",
    "lst_uoc = []\n",
    "\n",
    "for x in range(1,int(n**0.5)):\n",
    "    if(n%x == 0):\n",
    "        lst_uoc.append(x)\n",
    "        lst_uoc.append(n//x)\n",
    "\n",
    "if(n % int(n**0.5) == 0):\n",
    "    lst_uoc.append(int(n**0.5))\n",
    "\n",
    "print('số lượng ước của n là : ', len(lst_uoc))\n",
    "print(lst_uoc)\n",
    "\n",
    "print('Ước nguyên tố của n là: ', end = ' ')\n",
    "for x in lst_uoc:\n",
    "    if(check_snt(x) == 1):\n",
    "        print(x, end = ' ')\n",
    "        "
   ]
  },
  {
   "cell_type": "code",
   "execution_count": 18,
   "id": "2c5fef36-5818-4002-afd1-6fddc06605fa",
   "metadata": {},
   "outputs": [
    {
     "name": "stdin",
     "output_type": "stream",
     "text": [
      "hãy nhập 1 xâu bất kì: đào thị huyền\n"
     ]
    },
    {
     "data": {
      "text/plain": [
       "'Đào Thị Huyền'"
      ]
     },
     "execution_count": 18,
     "metadata": {},
     "output_type": "execute_result"
    }
   ],
   "source": [
    "# câu 10:\n",
    "s = input('hãy nhập 1 xâu bất kì:')\n",
    "\n",
    "lst_word = s.split()\n",
    "s = ''\n",
    "for i in range(len(lst_word)):\n",
    "    lst_word[i] = lst_word[i].title()\n",
    "    s += lst_word[i] + ' ' \n",
    "s= s.strip()\n",
    "s"
   ]
  },
  {
   "cell_type": "code",
   "execution_count": 20,
   "id": "cfd4680a-b7ac-41dd-aee1-5dfb78e65c0f",
   "metadata": {},
   "outputs": [
    {
     "name": "stdin",
     "output_type": "stream",
     "text": [
      " huyen huyen ddd aa\n"
     ]
    },
    {
     "name": "stdout",
     "output_type": "stream",
     "text": [
      "từ dài nhất trong xâu : huyen\n",
      "ở vị trí:  0\n"
     ]
    }
   ],
   "source": [
    "# câu 11:\n",
    "s = input()\n",
    "w_lst = s.split()\n",
    "max_l = 0\n",
    "word = ''\n",
    "index = -1\n",
    "for i,x in enumerate(w_lst):\n",
    "    if(max_l < len(x)):\n",
    "        max_l = len(x)\n",
    "        word = x\n",
    "        index = i\n",
    "\n",
    "print('từ dài nhất trong xâu :' , word)\n",
    "print('ở vị trí: ', index)\n"
   ]
  },
  {
   "cell_type": "markdown",
   "id": "a27f41dd-f753-482c-b1b9-7bd5c6de16c9",
   "metadata": {},
   "source": [
    "# Exercise 3:\n"
   ]
  },
  {
   "cell_type": "code",
   "execution_count": 23,
   "id": "600b7ec5-d740-4a9f-87ef-b9eda02e124a",
   "metadata": {},
   "outputs": [
    {
     "name": "stdin",
     "output_type": "stream",
     "text": [
      " 8\n"
     ]
    },
    {
     "name": "stdout",
     "output_type": "stream",
     "text": [
      "*\n",
      "**\n",
      "***\n",
      "****\n",
      "*****\n",
      "******\n",
      "*******\n",
      "********\n"
     ]
    }
   ],
   "source": [
    "#câu 1:\n",
    "#a\n",
    "n = int(input())\n",
    "for i in range(n):\n",
    "    for j in range(n):\n",
    "        if(j <= i):\n",
    "            print('*', end = '')\n",
    "    print('\\n', end = '')"
   ]
  },
  {
   "cell_type": "code",
   "execution_count": 25,
   "id": "6c6af535-5af8-4f97-b887-84b215bd239e",
   "metadata": {},
   "outputs": [
    {
     "name": "stdout",
     "output_type": "stream",
     "text": [
      "********\n",
      "*******\n",
      "******\n",
      "*****\n",
      "****\n",
      "***\n",
      "**\n",
      "*\n"
     ]
    }
   ],
   "source": [
    "#b\n",
    "for i in range(n):\n",
    "    for j in range(n):\n",
    "        if(j <= n-1 - i):\n",
    "            print('*', end = '')\n",
    "    print('\\n', end = '')"
   ]
  },
  {
   "cell_type": "code",
   "execution_count": 32,
   "id": "499e27de-76e3-46eb-b79a-9ffaea2ffffb",
   "metadata": {},
   "outputs": [
    {
     "name": "stdout",
     "output_type": "stream",
     "text": [
      "********\n",
      " *******\n",
      "  ******\n",
      "   *****\n",
      "    ****\n",
      "     ***\n",
      "      **\n",
      "       *\n"
     ]
    }
   ],
   "source": [
    "#c\n",
    "for i in range(n):\n",
    "    for j in range(n):\n",
    "        if(j >= i):\n",
    "            print('*', end = '')\n",
    "        else:\n",
    "            print(' ', end = '')\n",
    "    print('\\n', end = '')"
   ]
  },
  {
   "cell_type": "code",
   "execution_count": 34,
   "id": "aa03abd3-3558-4ecd-942a-337a40acc22f",
   "metadata": {},
   "outputs": [
    {
     "name": "stdout",
     "output_type": "stream",
     "text": [
      "       *\n",
      "      **\n",
      "     ***\n",
      "    ****\n",
      "   *****\n",
      "  ******\n",
      " *******\n",
      "********\n"
     ]
    }
   ],
   "source": [
    "#d\n",
    "for i in range(n):\n",
    "    for j in range(n):\n",
    "        if(j >= n-1-i):\n",
    "            print('*', end = '')\n",
    "        else:\n",
    "            print(' ', end = '')\n",
    "    print('\\n', end = '')"
   ]
  },
  {
   "cell_type": "code",
   "execution_count": 35,
   "id": "932955cb-f716-4444-b0fe-35ca7f4411f5",
   "metadata": {},
   "outputs": [
    {
     "name": "stdin",
     "output_type": "stream",
     "text": [
      " 5\n"
     ]
    },
    {
     "name": "stdout",
     "output_type": "stream",
     "text": [
      "120\n"
     ]
    }
   ],
   "source": [
    "#câu 2:\n",
    "n = int(input())\n",
    "tich = 1\n",
    "for i in range(1,n+1):\n",
    "    tich *= i\n",
    "\n",
    "print(tich)"
   ]
  }
 ],
 "metadata": {
  "kernelspec": {
   "display_name": "Python 3 (ipykernel)",
   "language": "python",
   "name": "python3"
  },
  "language_info": {
   "codemirror_mode": {
    "name": "ipython",
    "version": 3
   },
   "file_extension": ".py",
   "mimetype": "text/x-python",
   "name": "python",
   "nbconvert_exporter": "python",
   "pygments_lexer": "ipython3",
   "version": "3.12.2"
  }
 },
 "nbformat": 4,
 "nbformat_minor": 5
}
